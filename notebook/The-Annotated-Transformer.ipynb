{
 "cells": [
  {
   "cell_type": "markdown",
   "metadata": {},
   "source": [
    "# The Annotated Transformer KR"
   ]
  },
  {
   "cell_type": "markdown",
   "metadata": {},
   "source": [
    "## Attention in Transformer\n",
    "\n",
    "Transformer 에 사용되는 \n",
    "\n",
    "### encoder-decoder attention\n",
    "\n",
    "mimics the encoder-decoder attention mechanisms\n",
    "\n",
    "* queries : from the previous decoder layer\n",
    "* keys    : from the output of encoder\n",
    "* values  : from the output of encoder\n",
    "\n",
    "### encoder + self-attention\n",
    "\n",
    "* queries : from the previous output of encoder\n",
    "* keys    : from the previous output of encoder\n",
    "* values  : from the previous output of encoder\n",
    "\n",
    "### attention with mask\n",
    "\n",
    "prevent leftward information flow in decoder to preserve the auto-regressive property\n",
    "\n",
    "* implement by masking out inside of scaled dot-product attention"
   ]
  },
  {
   "cell_type": "markdown",
   "metadata": {},
   "source": [
    "## Define a simple Dataset\n",
    "\n",
    "The small-dataset WMT 2016 multimodal task, also known as Flickr30k"
   ]
  },
  {
   "cell_type": "markdown",
   "metadata": {},
   "source": [
    "### why do we need maximum sequence length?\n",
    "\n",
    "In RNN, we don't need to consider maximum sequence length since it automatically runs by rnn-cell like below. For example, if there is a input tensor which has size of `(seqlen, batch, input_size)`, output of rnn will be `(seqlen, batch, hidden_size)`."
   ]
  },
  {
   "cell_type": "code",
   "execution_count": 1,
   "metadata": {},
   "outputs": [
    {
     "data": {
      "text/plain": [
       "torch.Size([10, 5, 7])"
      ]
     },
     "execution_count": 1,
     "metadata": {},
     "output_type": "execute_result"
    }
   ],
   "source": [
    "import torch\n",
    "import torch.nn as nn\n",
    "seqlen = 10\n",
    "batch = 5\n",
    "hidden_size = 7\n",
    "input_size = 6\n",
    "rnn_cell = nn.RNNCell(input_size, hidden_size)\n",
    "\n",
    "inputs = torch.rand(seqlen, batch, input_size)\n",
    "hidden = torch.zeros(batch, hidden_size)\n",
    "output = []\n",
    "for t in range(seqlen):\n",
    "    hidden = rnn_cell(inputs[t], hidden)\n",
    "    output.append(hidden)\n",
    "output = torch.stack(output)\n",
    "output.size()"
   ]
  },
  {
   "cell_type": "markdown",
   "metadata": {},
   "source": [
    "So we don't need to consider how long the sequence length is, as it runs through `for` loop. However, all sequences are calculated together at once in \"transformer\", there is no method can deliver information from previous sequence to next sequence. The information only flows form bottom to top!\n",
    "\n",
    "The reason than model can't deliver information from previous sequence to next sequence is also can consider as there is no linear mapping and activation between sequences tensors. Think about how rnn_cell function at time $t$ below.\n",
    "\n",
    "$h_{t+1} =tanh(w_{ih}x_{t}+b_{ih}+w_{hh}h_t+b_{hh}) \\qquad \\text{for}\\ t\\ \\text{in range(max-seq-len)}$\n",
    "\n",
    "why this is important? Because linear mapping and activation is the core idea of deep learning by using a lot of activation function to approximate turth fucntion between features(neurons). If there's no linear mapping and activation, you can't find relations between input tensors."
   ]
  },
  {
   "cell_type": "markdown",
   "metadata": {},
   "source": [
    "<img src=\"model_arch.png\" width=\"30%\">"
   ]
  },
  {
   "cell_type": "markdown",
   "metadata": {},
   "source": [
    "## Training Details"
   ]
  },
  {
   "cell_type": "code",
   "execution_count": 2,
   "metadata": {},
   "outputs": [],
   "source": [
    "# import packages\n",
    "import torch\n",
    "import torch.nn as nn\n",
    "import torch.nn.functional as F\n",
    "import torch.optim as optim\n",
    "import numpy as np\n",
    "import matplotlib.pyplot as plt\n",
    "\n",
    "torch.set_printoptions(precision=4)"
   ]
  },
  {
   "cell_type": "markdown",
   "metadata": {},
   "source": [
    "* paper : https://arxiv.org/abs/1706.03762\n",
    "* reference blog: http://nlp.seas.harvard.edu/2018/04/03/attention.html\n",
    "* reference code: https://github.com/jadore801120/attention-is-all-you-need-pytorch"
   ]
  },
  {
   "cell_type": "markdown",
   "metadata": {},
   "source": [
    "The encoder maps input sequences to a sequence of continuous representations $x=(x_1 \\cdots, x_n) \\rightarrow z=(z_1, \\cdots, y_n)$, given $z$ generates an output sequence $y=(y_1, \\cdots, y_n)$"
   ]
  },
  {
   "cell_type": "markdown",
   "metadata": {},
   "source": [
    "## 3.2.1 Scaled Dot-Product Attention\n",
    "\n",
    "<img src=\"scaledot_attn.png\" width=\"30%\">"
   ]
  },
  {
   "cell_type": "code",
   "execution_count": 3,
   "metadata": {},
   "outputs": [],
   "source": [
    "import numpy as np\n",
    "import torch\n",
    "import torch.nn as nn\n",
    "\n",
    "class ScaledDotProductAttention(nn.Module):\n",
    "    \"\"\"Scaled Dot-Product Attention\"\"\"\n",
    "    def __init__(self, d_k, drop_rate=0.1):\n",
    "        super(ScaledDotProductAttention, self).__init__()\n",
    "        self.d_k = d_k\n",
    "        self.drop_out = nn.Dropout(drop_rate)\n",
    "        \n",
    "    def forward(self, q, k, v, mask=None):\n",
    "        \"\"\"\n",
    "        Inputs:\n",
    "        * q: (B, T_q, d_k)\n",
    "        * k: (B, T_k, d_k)\n",
    "        * v: (B, T_v, d_v)  //  T_k = T_v\n",
    "        -------------------------------\n",
    "        Outputs:\n",
    "        * output: (B, T_q, d_v)\n",
    "        * attn: (B, T_q, T_k)\n",
    "        \"\"\"\n",
    "        assert q.size(2) == k.size(2), \"keys & quries must have same dimension\"\n",
    "        assert k.size(1) == v.size(1), \"T_k = T_v\"\n",
    "        attn = torch.bmm(q, k.transpose(1, 2))  # (B, T_q, d_k) * (B, d_k, T_k) -> (B, T_q, T_k)\n",
    "        attn = attn / np.sqrt(self.d_k)\n",
    "        # why doing this? \n",
    "        # for the large values of d_k, the dot products grow large in magnitude, \n",
    "        # pushing the softmax function into regions where it has extremely small gradients\n",
    "        # to counteract this effect, scaled the dot products by 1/sqrt(d_k)\n",
    "        # to illustrate why the dot products get large,\n",
    "        # check the function 'check_dotproduct_dist'\n",
    "        if mask is not None:\n",
    "            attn = attn.masked_fill(mask, -np.inf)\n",
    "        \n",
    "        attn = torch.softmax(attn, dim=2)  # (B, T_q, T_k) --> (B, T_q, T_k)\n",
    "        # fill all nan to zero\n",
    "        mask_nan = torch.isnan(attn)\n",
    "        attn = attn.masked_fill(mask_nan, 0)\n",
    "        \n",
    "        output = torch.bmm(attn, v)  # (B, T_q, T_k) * (B, T_v, d_v) --> (B, T_q, d_v), make sure that T_k == T_v\n",
    "        attn = self.drop_out(attn)\n",
    "        \n",
    "        return output, attn"
   ]
  },
  {
   "cell_type": "code",
   "execution_count": 4,
   "metadata": {},
   "outputs": [],
   "source": [
    "# ex) translation: \n",
    "# q - previous decoder\n",
    "# k, v - encoder output\n",
    "# mask should be (B, T_q, T_k), will talk about it later\n",
    "batch = 1\n",
    "T_q = 3\n",
    "T_k, T_v = (4, 4)\n",
    "d_k = 10\n",
    "d_v = 12\n",
    "mask = torch.ByteTensor([[[0, 1, 1, 1],\n",
    "                          [0, 0, 1, 1],\n",
    "                          [1, 1, 1, 1]]])\n",
    "# mask = torch.ByteTensor([[[0, 1, 1, 1],\n",
    "#                           [0, 0, 1, 1],\n",
    "#                           [0, 0, 1, 1]]])\n",
    "q, k, v = torch.randn((batch, T_q, d_k)), torch.randn((batch, T_k, d_k)), torch.randn((batch, T_v, d_v))\n",
    "attention = ScaledDotProductAttention(d_k)"
   ]
  },
  {
   "cell_type": "code",
   "execution_count": 5,
   "metadata": {},
   "outputs": [
    {
     "data": {
      "text/plain": [
       "(torch.Size([1, 3, 12]), torch.Size([1, 3, 4]))"
      ]
     },
     "execution_count": 5,
     "metadata": {},
     "output_type": "execute_result"
    }
   ],
   "source": [
    "attention.eval()\n",
    "output, attn = attention(q, k, v, mask=mask)\n",
    "# output size: (B, T_q, d_v)\n",
    "# attn size: (B, T_q, T_k)\n",
    "output.size(), attn.size()"
   ]
  },
  {
   "cell_type": "code",
   "execution_count": 6,
   "metadata": {},
   "outputs": [
    {
     "data": {
      "image/png": "[encoded data removed]",
      "text/plain": [
       "<Figure size 384x288 with 1 Axes>"
      ]
     },
     "metadata": {
      "needs_background": "light"
     },
     "output_type": "display_data"
    }
   ],
   "source": [
    "plt.matshow(attn.squeeze(0).numpy(), cmap=\"binary\")\n",
    "plt.show()"
   ]
  },
  {
   "cell_type": "code",
   "execution_count": 7,
   "metadata": {},
   "outputs": [
    {
     "data": {
      "text/plain": [
       "(tensor([[[-2.2507,  0.4573,  0.4437,  0.2009, -0.0631,  0.3658,  1.2180,\n",
       "            1.1180,  1.5924,  0.4960,  0.4655, -0.4090],\n",
       "          [-2.0109,  0.3646,  0.5146, -0.9801, -0.2280,  0.0597,  0.4248,\n",
       "            0.4102, -0.1091,  0.4236,  1.1313,  0.6272],\n",
       "          [ 0.0000,  0.0000,  0.0000,  0.0000,  0.0000,  0.0000,  0.0000,\n",
       "            0.0000,  0.0000,  0.0000,  0.0000,  0.0000]]]),\n",
       " tensor([[[1.0000, 0.0000, 0.0000, 0.0000],\n",
       "          [0.5640, 0.4360, 0.0000, 0.0000],\n",
       "          [0.0000, 0.0000, 0.0000, 0.0000]]]))"
      ]
     },
     "execution_count": 7,
     "metadata": {},
     "output_type": "execute_result"
    }
   ],
   "source": [
    "output, attn"
   ]
  },
  {
   "cell_type": "code",
   "execution_count": 8,
   "metadata": {},
   "outputs": [],
   "source": [
    "def check_dotproduct_dist(d_k, sampling_size=1, seq_len=1, threshold=1e-10):\n",
    "    \"\"\"\n",
    "    to check \"https://arxiv.org/abs/1706.03762\" Paper page 4, annotation 4\n",
    "    -------------------------------\n",
    "    To illustrate why the dot products get large, \n",
    "    assume that the components of q and k are independent random variables \n",
    "    with mean 0 and variance 1.\n",
    "    Then their dot product has mean 0 and variance d_k\n",
    "    \n",
    "    ```\n",
    "    print(\"*** notice that the gradient of softmax is y(1-y) ***\")\n",
    "    for d_k in [10, 100, 1000]:\n",
    "        check_dotproduct_dist(d_k, sampling_size=100000, seq_len=5, threshold=1e-10)\n",
    "    ```\n",
    "    \n",
    "    \"\"\"\n",
    "    def cal_grad(attn):\n",
    "        y = torch.softmax(attn, dim=2)\n",
    "        return y * (1-y)\n",
    "    \n",
    "    q = nn.init.normal_(torch.rand((sampling_size, seq_len, d_k)), mean=0, std=1)\n",
    "    k = nn.init.normal_(torch.rand((sampling_size, seq_len, d_k)), mean=0, std=1)\n",
    "    attn = torch.bmm(q, k.transpose(1, 2))\n",
    "    print(f\"size of vector d_k is {d_k}, sampling result, dot product distribution has\")\n",
    "    print(f\" - mean: {attn.mean().item():.4f}, \\n - var: {attn.var().item():.4f}\")\n",
    "    grad = cal_grad(attn)\n",
    "    g_sum = grad.le(threshold).sum()\n",
    "    g_percent = g_sum.item()/grad.view(-1).size(0)*100\n",
    "    print(f\"count of gradients that smaller than threshod({threshold}) is {g_sum}, {g_percent:.2f}%\")\n",
    "    \n",
    "    attn2 = attn / torch.sqrt(torch.as_tensor(d_k).float())\n",
    "    grad2 = cal_grad(attn2)\n",
    "    g_sum2 = grad2.le(threshold).sum()\n",
    "    g_percent2 = g_sum2.item()/grad2.view(-1).size(0)*100\n",
    "    print(f\"after divide by sqrt(d_k), count of gradients that smaller than threshod({threshold}) is {g_sum2}, {g_percent2:.2f}% \\n\")"
   ]
  },
  {
   "cell_type": "code",
   "execution_count": 9,
   "metadata": {
    "scrolled": true
   },
   "outputs": [
    {
     "name": "stdout",
     "output_type": "stream",
     "text": [
      "*** notice that the gradient of softmax is y(1-y) ***\n",
      "size of vector d_k is 10, sampling result, dot product distribution has\n",
      " - mean: 0.0044, \n",
      " - var: 10.0065\n",
      "count of gradients that smaller than threshod(1e-10) is 15, 0.01%\n",
      "after divide by sqrt(d_k), count of gradients that smaller than threshod(1e-10) is 0, 0.00% \n",
      "\n",
      "size of vector d_k is 100, sampling result, dot product distribution has\n",
      " - mean: 0.0384, \n",
      " - var: 99.2262\n",
      "count of gradients that smaller than threshod(1e-10) is 39763, 15.91%\n",
      "after divide by sqrt(d_k), count of gradients that smaller than threshod(1e-10) is 0, 0.00% \n",
      "\n",
      "size of vector d_k is 1000, sampling result, dot product distribution has\n",
      " - mean: -0.0018, \n",
      " - var: 999.3240\n",
      "count of gradients that smaller than threshod(1e-10) is 173463, 69.39%\n",
      "after divide by sqrt(d_k), count of gradients that smaller than threshod(1e-10) is 0, 0.00% \n",
      "\n"
     ]
    }
   ],
   "source": [
    "print(\"*** notice that the gradient of softmax is y(1-y) ***\")\n",
    "for d_k in [10, 100, 1000]:\n",
    "    check_dotproduct_dist(d_k, sampling_size=10000, seq_len=5, threshold=1e-10)"
   ]
  },
  {
   "cell_type": "markdown",
   "metadata": {},
   "source": [
    "## 3.2.2 Multi-Head Attention\n",
    "\n",
    "<img src=\"multihead_attn.png\" width=\"30%\">"
   ]
  },
  {
   "cell_type": "code",
   "execution_count": 10,
   "metadata": {},
   "outputs": [],
   "source": [
    "class MultiHeadAttention(nn.Module):\n",
    "    \"\"\"Multi-head Attention\"\"\"\n",
    "    def __init__(self, n_head, d_model, d_k, d_v, drop_rate=0.1):\n",
    "        \"\"\"\n",
    "        paper setting: n_head = 8, d_k = d_v = d_model / n_head = 64\n",
    "        Multi-head attention allows the model to jointly attend to information from \n",
    "        different representation subspaces at different positions.\n",
    "        with a single attention head, averaging inhibits this.\n",
    "        \"\"\"\n",
    "        super(MultiHeadAttention, self).__init__()\n",
    "        self.n_head = n_head\n",
    "        self.d_model = d_model\n",
    "        self.d_k = d_k\n",
    "        self.d_v = d_v\n",
    "        self.linear_q = nn.Linear(d_model, n_head*d_k)\n",
    "        self.linear_k = nn.Linear(d_model, n_head*d_k)\n",
    "        self.linear_v = nn.Linear(d_model, n_head*d_v)\n",
    "        nn.init.normal_(self.linear_q.weight, mean=0, std=np.sqrt(2.0 / (d_model + d_k)))\n",
    "        nn.init.normal_(self.linear_k.weight, mean=0, std=np.sqrt(2.0 / (d_model + d_k)))\n",
    "        nn.init.normal_(self.linear_v.weight, mean=0, std=np.sqrt(2.0 / (d_model + d_v)))\n",
    "        \n",
    "        self.linear_o = nn.Linear(n_head*d_v, d_model)\n",
    "        self.attention = ScaledDotProductAttention(d_k, drop_rate)\n",
    "        self.drop_out = nn.Dropout(drop_rate)\n",
    "        self.layer_norm = nn.LayerNorm(d_model)\n",
    "        \n",
    "    def forward(self, q, k, v, mask=None):\n",
    "        \"\"\"\n",
    "        Inputs:\n",
    "        * q: (B, T_q, d_model)\n",
    "        * k: (B, T_k, d_model)\n",
    "        * v: (B, T_v, d_model)\n",
    "        * mask: (B, T_q, T_k)\n",
    "        ---------------------\n",
    "        Outputs:\n",
    "        * output: (B, T_q, d_model)\n",
    "        * attn: (n_head, B, T_q, T_k)\n",
    "        \"\"\"\n",
    "        residual = q\n",
    "        \n",
    "        n_head, d_model, d_k, d_v = self.n_head, self.d_model, self.d_k, self.d_v\n",
    "        B, T_q, _ = q.size()\n",
    "        B, T_k, _ = k.size()\n",
    "        B, T_v, _ = v.size()\n",
    "        # through linear layer: \n",
    "        # lin_qs : (B, T_q, d_model) --> (B, T_q, n_head * d_k) --> (n_head * B, T_q, d_k)\n",
    "        # lin_ks : (B, T_k, d_model) --> (B, T_k, n_head * d_k) --> (n_head * B, T_k, d_k)\n",
    "        # lin_vs : (B, T_v, d_model) --> (B, T_v, n_head * d_v) --> (n_head * B, T_v, d_v)\n",
    "        \n",
    "        lin_qs = torch.cat(self.linear_q(q).chunk(n_head, dim=2), dim=0)\n",
    "        lin_ks = torch.cat(self.linear_k(k).chunk(n_head, dim=2), dim=0)\n",
    "        lin_vs = torch.cat(self.linear_v(v).chunk(n_head, dim=2), dim=0)\n",
    "\n",
    "#         lin_qs = self.linear_q(q).view(B, T_q, n_head, d_k)\n",
    "#         lin_ks = self.linear_k(k).view(B, T_k, n_head, d_k)\n",
    "#         lin_vs = self.linear_v(v).view(B, T_v, n_head, d_v)\n",
    "\n",
    "#         lin_qs = lin_qs.permute(2, 0, 1, 3).contiguous().view(-1, T_q, d_k)\n",
    "#         lin_ks = lin_ks.permute(2, 0, 1, 3).contiguous().view(-1, T_k, d_k)\n",
    "#         lin_vs = lin_vs.permute(2, 0, 1, 3).contiguous().view(-1, T_v, d_v)\n",
    "        \n",
    "        \n",
    "        if mask is not None:\n",
    "            mask = mask.repeat(n_head, 1, 1)\n",
    "\n",
    "        # attention: Scaled Dot-Product Attention\n",
    "        ## heads: (n_head * B, T_q, d_v)\n",
    "        ## attn: (n_head * B, T_q, T_k)\n",
    "        heads, attn = self.attention(q=lin_qs, k=lin_ks, v=lin_vs, mask=mask)\n",
    "        # concat\n",
    "        # be aware `heads.view(batch, T_q, n_head*d_k)` is not same as `torch.cat(heads.chunk(n_head, dim=0), dim=-1)`\n",
    "        # (n_head * B, T_q, d_v) --> (B, T_q, n_head * d_v)\n",
    "        heads_cat = torch.cat(heads.chunk(n_head, dim=0), dim=-1)\n",
    "#         heads = heads.view(n_head, B, T_q, d_v)\n",
    "#         heads_cat = heads.permute(1, 2, 0, 3).contiguous().view(B, T_q, -1) # b x lq x (n*dv)\n",
    "\n",
    "        output = self.linear_o(heads_cat)  # (B, T_q, n_head * d_v) --> (B, T_q, d_model)\n",
    "        output = self.drop_out(output)\n",
    "        \n",
    "        output = self.layer_norm(residual + output)\n",
    "\n",
    "        return output, attn"
   ]
  },
  {
   "cell_type": "code",
   "execution_count": 11,
   "metadata": {},
   "outputs": [
    {
     "data": {
      "text/plain": [
       "(torch.Size([1, 5, 24]), torch.Size([1, 5, 24]), torch.Size([1, 5, 24]))"
      ]
     },
     "execution_count": 11,
     "metadata": {},
     "output_type": "execute_result"
    }
   ],
   "source": [
    "batch = 1\n",
    "T_q = 5\n",
    "T_k, T_v = (5, 5)\n",
    "n_head = 8\n",
    "d_model = 3*n_head\n",
    "d_k = 5\n",
    "d_v = 5\n",
    "mask = torch.ByteTensor([[[0, 1, 1, 1, 1],\n",
    "                          [0, 0, 1, 1, 1],\n",
    "                          [0, 0, 0, 0, 1],\n",
    "                          [1, 1, 1, 1, 1],\n",
    "                          [1, 1, 1, 1, 1]]])\n",
    "q, k = torch.randn((batch, T_q, d_model)), torch.randn((batch, T_k, d_model))\n",
    "v = k\n",
    "q.size(), k.size(), v.size()"
   ]
  },
  {
   "cell_type": "code",
   "execution_count": 12,
   "metadata": {},
   "outputs": [
    {
     "data": {
      "text/plain": [
       "(torch.Size([1, 5, 24]), torch.Size([8, 5, 5]))"
      ]
     },
     "execution_count": 12,
     "metadata": {},
     "output_type": "execute_result"
    }
   ],
   "source": [
    "multihead_attention = MultiHeadAttention(n_head, d_model, d_k, d_v)\n",
    "multihead_attention.eval()\n",
    "o, attn = multihead_attention(q, k, v, mask=mask)\n",
    "o.size(), attn.size()"
   ]
  },
  {
   "cell_type": "code",
   "execution_count": 13,
   "metadata": {},
   "outputs": [],
   "source": [
    "def draw_attentions(n_head, attn):\n",
    "    \"\"\"\n",
    "    to see `n_head` views of attentions\n",
    "    \"\"\"\n",
    "    fig, axes = plt.subplots(2, 4, dpi=100)\n",
    "    for k in range(n_head):\n",
    "        i = k % 2\n",
    "        j = k // 2\n",
    "        axes[i, j].matshow(attn[k].squeeze().detach().numpy(), cmap=\"binary\")\n",
    "        axes[i, j].set_title(f\"head: {k}\", loc=\"center\")\n",
    "        axes[i, j].xaxis.tick_bottom()\n",
    "    plt.tight_layout()\n",
    "    plt.show()"
   ]
  },
  {
   "cell_type": "code",
   "execution_count": 14,
   "metadata": {},
   "outputs": [
    {
     "data": {
      "image/png": "[encoded data removed]",
      "text/plain": [
       "<Figure size 600x400 with 8 Axes>"
      ]
     },
     "metadata": {
      "needs_background": "light"
     },
     "output_type": "display_data"
    }
   ],
   "source": [
    "draw_attentions(n_head, attn)"
   ]
  },
  {
   "cell_type": "markdown",
   "metadata": {},
   "source": [
    "## 3.3 Position-wise Feed-Forward Networks\n",
    "\n",
    "$$FFN(x) = max(0, xW_1 + b_1)W_2 + b_2$$\n",
    "$$\\begin{aligned} W_1 &\\in \\Bbb{R}^{d_{model} \\times d_f} \\\\ \n",
    "b_1 &\\in \\Bbb{R}^{d_f} \\\\\n",
    "W_2 &\\in \\Bbb{R}^{d_f \\times d_{model}} \\\\ \n",
    "b_2 &\\in \\Bbb{R}^{d_{model}} \\\\\n",
    "\\end{aligned}$$\n",
    "\n",
    "same as $FFN = Linear(ReLU(Linear(x)) = Conv1d(ReLU(Conv1d(x)))$"
   ]
  },
  {
   "cell_type": "code",
   "execution_count": 15,
   "metadata": {},
   "outputs": [],
   "source": [
    "class PositionWiseFFN(nn.Module):\n",
    "    \"\"\"Position-wise Feed-Forward Networks\"\"\"\n",
    "    def __init__(self, d_model, d_f, drop_rate=0.1, use_conv=False):\n",
    "        super(PositionWiseFFN, self).__init__()\n",
    "        self.use_conv = use_conv\n",
    "        self.layer_norm = nn.LayerNorm(d_model)\n",
    "        \n",
    "        if use_conv:\n",
    "            self.fc = nn.Sequential(\n",
    "                nn.Conv1d(d_model, d_f, kernel_size=1),\n",
    "                nn.ReLU(),\n",
    "                nn.Conv1d(d_f, d_model, kernel_size=1)\n",
    "            )\n",
    "        else:\n",
    "            self.fc = nn.Sequential(\n",
    "                nn.Linear(d_model, d_f),\n",
    "                nn.ReLU(),\n",
    "                nn.Linear(d_f, d_model)\n",
    "            )\n",
    "        self.drop_out = nn.Dropout(drop_rate)\n",
    "    \n",
    "    def forward(self, x):\n",
    "        \"\"\"\n",
    "        Inputs:\n",
    "        x: (B, T, d_model)\n",
    "        -----------------------\n",
    "        Ouputs:\n",
    "        output: (B, T, d_model)\n",
    "        \"\"\"\n",
    "        residual = x\n",
    "        \n",
    "        if self.use_conv:\n",
    "            # (B, T, d_model) --> (B, d_model, T), reshape like (batch, channel, dim)\n",
    "            x = x.transpose(1, 2)  \n",
    "            # (B, d_model, T) --> (B, T, d_model)\n",
    "            output = self.fc(x).transpose(1, 2)  \n",
    "        else:\n",
    "            output = self.fc(x)\n",
    "            \n",
    "        output = self.drop_out(output)\n",
    "        output = self.layer_norm(residual + output)\n",
    "        \n",
    "        return output"
   ]
  },
  {
   "cell_type": "code",
   "execution_count": 16,
   "metadata": {},
   "outputs": [
    {
     "data": {
      "text/plain": [
       "torch.Size([1, 5, 24])"
      ]
     },
     "execution_count": 16,
     "metadata": {},
     "output_type": "execute_result"
    }
   ],
   "source": [
    "d_f = d_model*4\n",
    "PWFFN = PositionWiseFFN(d_model, d_f, use_conv=False)\n",
    "PWFFN(o).size()"
   ]
  },
  {
   "cell_type": "code",
   "execution_count": 17,
   "metadata": {},
   "outputs": [
    {
     "data": {
      "text/plain": [
       "torch.Size([1, 5, 24])"
      ]
     },
     "execution_count": 17,
     "metadata": {},
     "output_type": "execute_result"
    }
   ],
   "source": [
    "PWFFN = PositionWiseFFN(d_model, d_f, use_conv=True)\n",
    "PWFFN(o).size()"
   ]
  },
  {
   "cell_type": "markdown",
   "metadata": {},
   "source": [
    "## 3.5 Positional Encoding & Embeddings"
   ]
  },
  {
   "cell_type": "markdown",
   "metadata": {},
   "source": [
    "$$\\begin{aligned} PE_{(pos, 2i)} &= sin(pos/10000^{2i / d_{model}}) \\\\\n",
    "PE_{(pos, 2i+1)} &= cos(pos/10000^{2i / d_{model}}) \\\\\n",
    "\\end{aligned}$$"
   ]
  },
  {
   "cell_type": "code",
   "execution_count": 18,
   "metadata": {},
   "outputs": [],
   "source": [
    "class PositionalEncoding(nn.Module):\n",
    "    \"\"\"Positional Encoding\"\"\"\n",
    "    def __init__(self, n_pos, d_model, pos_pad_idx=0):\n",
    "        \"\"\"\n",
    "        n_pos = position length, max sequence length + 1\n",
    "        \"\"\"\n",
    "        super(PositionalEncoding, self).__init__()\n",
    "        self.n_pos = n_pos\n",
    "        self.d_model = d_model\n",
    "        self.pe_table = np.array(self.get_pe_table())\n",
    "        self.pe_table[:, 0::2] = np.sin(self.pe_table[:, 0::2])\n",
    "        self.pe_table[:, 1::2] = np.cos(self.pe_table[:, 1::2])\n",
    "        self.pe_table[pos_pad_idx, :] = 0  # embed all pad to 0\n",
    "            \n",
    "        self.pe = nn.Embedding.from_pretrained(torch.FloatTensor(self.pe_table), freeze=True)\n",
    "        \n",
    "    def cal_angle(self, pos, hid_idx):\n",
    "        return pos / (10000 ** ((2*(hid_idx // 2) / self.d_model)) )\n",
    "    \n",
    "    def get_pe_table(self):\n",
    "        return [[self.cal_angle(pos, i) for i in range(self.d_model)] for pos in range(self.n_pos)]         \n",
    "        \n",
    "    def forward(self, inputs):\n",
    "        return self.pe(inputs)"
   ]
  },
  {
   "cell_type": "code",
   "execution_count": 19,
   "metadata": {},
   "outputs": [],
   "source": [
    "class Embedding(nn.Module):\n",
    "    \"\"\"Custom Embedding Layer\"\"\"\n",
    "    def __init__(self, vocab_len, d_model, padding_idx=1):\n",
    "        super(Embedding, self).__init__()\n",
    "        self.d_model = d_model\n",
    "        self.embedding = nn.Embedding(vocab_len, d_model, padding_idx=padding_idx)\n",
    "        \n",
    "    def forward(self, x):\n",
    "        # In the embedding layers, authors multiply those weights by `sqrt(d_model)`\n",
    "        return self.embedding(x) * np.sqrt(self.d_model)\n"
   ]
  },
  {
   "cell_type": "code",
   "execution_count": 94,
   "metadata": {},
   "outputs": [],
   "source": [
    "n_pos = 4\n",
    "vocab_len = 10\n",
    "# x, po_x: input sentences, postions of input sentences  (4, 3)\n",
    "x = torch.LongTensor(np.array([[6, 5, 3, 1], \n",
    "                               [2, 3, 1, 1], \n",
    "                               [5, 3, 6, 1], \n",
    "                               [3, 6, 2, 1]]))\n",
    "po_x = torch.LongTensor(np.array([[1, 2, 3, 0], \n",
    "                                  [1, 2, 0, 0], \n",
    "                                  [1, 2, 3, 0], \n",
    "                                  [1, 2, 3, 0]]))\n",
    "pos_layer = PositionalEncoding(n_pos+1, d_model, pos_pad_idx=0)\n",
    "embed_layer = Embedding(vocab_len, d_model, padding_idx=1)"
   ]
  },
  {
   "cell_type": "code",
   "execution_count": 95,
   "metadata": {},
   "outputs": [
    {
     "data": {
      "text/plain": [
       "torch.Size([4, 4, 24])"
      ]
     },
     "execution_count": 95,
     "metadata": {},
     "output_type": "execute_result"
    }
   ],
   "source": [
    "inputs = embed_layer(x) + pos_layer(po_x)\n",
    "inputs.size()"
   ]
  },
  {
   "cell_type": "code",
   "execution_count": 96,
   "metadata": {},
   "outputs": [
    {
     "data": {
      "text/plain": [
       "<matplotlib.image.AxesImage at 0x7f10646d1cc0>"
      ]
     },
     "execution_count": 96,
     "metadata": {},
     "output_type": "execute_result"
    },
    {
     "data": {
      "image/png": "[encoded data removed]",
      "text/plain": [
       "<Figure size 432x288 with 3 Axes>"
      ]
     },
     "metadata": {
      "needs_background": "light"
     },
     "output_type": "display_data"
    }
   ],
   "source": [
    "fig, axes = plt.subplots(3, 1)\n",
    "axes[0].matshow(embed_layer(x)[0].detach().numpy(), cmap=\"binary\")\n",
    "axes[1].matshow(pos_layer(po_x)[0].detach().numpy(), cmap=\"binary\")\n",
    "axes[2].matshow(inputs[0].detach().numpy(), cmap=\"binary\")"
   ]
  },
  {
   "cell_type": "code",
   "execution_count": 187,
   "metadata": {},
   "outputs": [
    {
     "data": {
      "text/plain": [
       "torch.Size([4, 4, 24])"
      ]
     },
     "execution_count": 187,
     "metadata": {},
     "output_type": "execute_result"
    }
   ],
   "source": [
    "# target sentences\n",
    "target_n_pos = 4  # equal to max_seq_len\n",
    "t = torch.LongTensor(np.array([[2, 4, 3, 1], \n",
    "                               [2, 7, 9, 3], \n",
    "                               [2, 3, 1, 1], \n",
    "                               [2, 9, 3, 1]]))\n",
    "po_t = torch.LongTensor(np.array([[1, 3, 2, 0], \n",
    "                                  [1, 3, 4, 2], \n",
    "                                  [1, 3, 0, 0], \n",
    "                                  [1, 3, 2, 0]]))\n",
    "pos_layer = PositionalEncoding(target_n_pos+1, d_model)\n",
    "embed_layer = Embedding(vocab_len, d_model, padding_idx=1)\n",
    "target_inputs = embed_layer(t) + pos_layer(po_t)\n",
    "target_inputs.size()"
   ]
  },
  {
   "cell_type": "code",
   "execution_count": 188,
   "metadata": {},
   "outputs": [
    {
     "data": {
      "text/plain": [
       "Embedding(5, 24)"
      ]
     },
     "execution_count": 188,
     "metadata": {},
     "output_type": "execute_result"
    }
   ],
   "source": [
    "pos_layer.pe"
   ]
  },
  {
   "cell_type": "code",
   "execution_count": 189,
   "metadata": {},
   "outputs": [
    {
     "data": {
      "text/plain": [
       "<matplotlib.image.AxesImage at 0x7f1066d7e128>"
      ]
     },
     "execution_count": 189,
     "metadata": {},
     "output_type": "execute_result"
    },
    {
     "data": {
      "image/png": "[encoded data removed]",
      "text/plain": [
       "<Figure size 432x288 with 3 Axes>"
      ]
     },
     "metadata": {
      "needs_background": "light"
     },
     "output_type": "display_data"
    }
   ],
   "source": [
    "fig, axes = plt.subplots(3, 1)\n",
    "axes[0].matshow(embed_layer(t)[0].detach().numpy(), cmap=\"binary\")\n",
    "axes[1].matshow(pos_layer(po_t)[0].detach().numpy(), cmap=\"binary\")\n",
    "axes[2].matshow(target_inputs[0].detach().numpy(), cmap=\"binary\")"
   ]
  },
  {
   "cell_type": "code",
   "execution_count": 190,
   "metadata": {},
   "outputs": [
    {
     "data": {
      "image/png": "[encoded data removed]",
      "text/plain": [
       "<Figure size 864x864 with 1 Axes>"
      ]
     },
     "metadata": {
      "needs_background": "light"
     },
     "output_type": "display_data"
    }
   ],
   "source": [
    "# visualize positional encoding\n",
    "temp_d_model = 512\n",
    "temp_n_pos = 50\n",
    "temp_pos_layer = PositionalEncoding(temp_n_pos+1, temp_d_model)\n",
    "\n",
    "fig, ax = plt.subplots(1, 1, figsize=(12, 12))\n",
    "ax.matshow(np.hstack([temp_pos_layer.pe_table[:, 0::2], temp_pos_layer.pe_table[:, 1::2]]))\n",
    "plt.show()"
   ]
  },
  {
   "cell_type": "code",
   "execution_count": 191,
   "metadata": {},
   "outputs": [],
   "source": [
    "# def get_padding_mask(q, k=None, pad_idx=1, mode='attn'):\n",
    "#     \"\"\"\n",
    "#     mode: attn\n",
    "#     > `pad_idx` is vocab pad_idx \n",
    "#     > mask out for pad in attention with queries & keys sequences\n",
    "#     > return shape: (B, T_q, T_k)\n",
    "#     mode: nonpad\n",
    "#     > `pad_idx` is vocab pad_idx \n",
    "#     > mask out pad rows in attention\n",
    "#     > return shape: (B, T_q, T_k)\n",
    "#     mode: subseq\n",
    "#     > mask out next tokens to preserve 'auto-regressive property'\n",
    "#     > return shape: (B, T_q, T_q)\n",
    "#     \"\"\"\n",
    "#     B, q_len = q.size()\n",
    "#     if mode == 'attn':\n",
    "#         assert k is not None, \"must have key sequences\"\n",
    "#         padding_mask = k.eq(pad_idx)\n",
    "#         padding_mask = padding_mask.unsqueeze(1).expand(B, q_len, -1)\n",
    "#         return padding_mask\n",
    "#     elif mode == 'nonpad':\n",
    "#         # to mask out pad rows\n",
    "#         assert k is None, \"don't need key sequences\"\n",
    "#         return q.ne(pad_idx).type(torch.float).unsqueeze(-1)\n",
    "#     elif mode =='subseq':\n",
    "#         assert k is None, \"don't need key sequences\"\n",
    "#         subseq_mask = torch.triu(torch.ones((q_len, q_len), device=q.device, dtype=torch.uint8), \n",
    "#                                  diagonal=1)\n",
    "#         subseq_mask = subseq_mask.unsqueeze(0).expand(B, -1, -1)\n",
    "#         return subseq_mask"
   ]
  },
  {
   "cell_type": "code",
   "execution_count": 192,
   "metadata": {},
   "outputs": [],
   "source": [
    "def get_padding_mask(q, k=None, pad_idx=1, mode='attn'):\n",
    "    \"\"\"\n",
    "    mode: attn\n",
    "    > `pad_idx` is vocab pad_idx \n",
    "    > mask out for pad in attention with queries & keys sequences\n",
    "    > return shape: (B, T_q, T_k)\n",
    "    mode: subseq\n",
    "    > mask out next tokens to preserve 'auto-regressive property'\n",
    "    > return shape: (B, T_q, T_q)\n",
    "    \"\"\"\n",
    "    B, q_len = q.size()\n",
    "    B, k_len = k.size() if k is not None else (B, None)\n",
    "    if mode == 'attn':\n",
    "        assert k is not None, \"must have key sequences\"\n",
    "        padding_mask = k.eq(pad_idx)\n",
    "        padding_mask = padding_mask.unsqueeze(1).expand(B, q_len, -1)\n",
    "        row_pad = q.eq(1).unsqueeze(-1).expand(B, q_len, k_len)\n",
    "        padding_mask = (padding_mask + row_pad).ge(1)\n",
    "        return padding_mask\n",
    "    elif mode =='subseq':\n",
    "        assert k is None, \"don't need key sequences\"\n",
    "        subseq_mask = torch.triu(torch.ones((q_len, q_len), device=q.device, dtype=torch.uint8), \n",
    "                                 diagonal=1)\n",
    "        subseq_mask = subseq_mask.unsqueeze(0).expand(B, -1, -1)\n",
    "        return subseq_mask\n",
    "    else:\n",
    "        assert False, \"error maksing\""
   ]
  },
  {
   "cell_type": "code",
   "execution_count": 193,
   "metadata": {},
   "outputs": [
    {
     "data": {
      "image/png": "[encoded data removed]",
      "text/plain": [
       "<Figure size 432x288 with 2 Axes>"
      ]
     },
     "metadata": {
      "needs_background": "light"
     },
     "output_type": "display_data"
    }
   ],
   "source": [
    "fig, axes = plt.subplots(1, 2)\n",
    "axes[0].matshow(x.numpy(), cmap=\"binary\")\n",
    "axes[0].set_title(\"x\")\n",
    "axes[1].matshow(t.numpy(), cmap=\"binary\")\n",
    "axes[1].set_title(\"t\")\n",
    "plt.show()"
   ]
  },
  {
   "cell_type": "code",
   "execution_count": 194,
   "metadata": {},
   "outputs": [
    {
     "data": {
      "text/plain": [
       "tensor([[[0, 0, 0, 1],\n",
       "         [0, 0, 0, 1],\n",
       "         [0, 0, 0, 1],\n",
       "         [1, 1, 1, 1]],\n",
       "\n",
       "        [[0, 0, 1, 1],\n",
       "         [0, 0, 1, 1],\n",
       "         [0, 0, 1, 1],\n",
       "         [0, 0, 1, 1]],\n",
       "\n",
       "        [[0, 0, 0, 1],\n",
       "         [0, 0, 0, 1],\n",
       "         [1, 1, 1, 1],\n",
       "         [1, 1, 1, 1]],\n",
       "\n",
       "        [[0, 0, 0, 1],\n",
       "         [0, 0, 0, 1],\n",
       "         [0, 0, 0, 1],\n",
       "         [1, 1, 1, 1]]], dtype=torch.uint8)"
      ]
     },
     "execution_count": 194,
     "metadata": {},
     "output_type": "execute_result"
    }
   ],
   "source": [
    "get_padding_mask(t, x, pad_idx=1, mode=\"attn\")"
   ]
  },
  {
   "cell_type": "code",
   "execution_count": 195,
   "metadata": {},
   "outputs": [
    {
     "data": {
      "text/plain": [
       "tensor([[[0, 0, 0, 1],\n",
       "         [0, 0, 0, 1],\n",
       "         [0, 0, 0, 1],\n",
       "         [1, 1, 1, 1]],\n",
       "\n",
       "        [[0, 0, 0, 0],\n",
       "         [0, 0, 0, 0],\n",
       "         [0, 0, 0, 0],\n",
       "         [0, 0, 0, 0]],\n",
       "\n",
       "        [[0, 0, 1, 1],\n",
       "         [0, 0, 1, 1],\n",
       "         [1, 1, 1, 1],\n",
       "         [1, 1, 1, 1]],\n",
       "\n",
       "        [[0, 0, 0, 1],\n",
       "         [0, 0, 0, 1],\n",
       "         [0, 0, 0, 1],\n",
       "         [1, 1, 1, 1]]], dtype=torch.uint8)"
      ]
     },
     "execution_count": 195,
     "metadata": {},
     "output_type": "execute_result"
    }
   ],
   "source": [
    "get_padding_mask(t, t, pad_idx=1, mode=\"attn\")"
   ]
  },
  {
   "cell_type": "code",
   "execution_count": 196,
   "metadata": {},
   "outputs": [
    {
     "data": {
      "text/plain": [
       "tensor([[[0, 0, 0, 1],\n",
       "         [0, 0, 0, 1],\n",
       "         [0, 0, 0, 1],\n",
       "         [1, 1, 1, 1]],\n",
       "\n",
       "        [[0, 0, 1, 1],\n",
       "         [0, 0, 1, 1],\n",
       "         [1, 1, 1, 1],\n",
       "         [1, 1, 1, 1]],\n",
       "\n",
       "        [[0, 0, 0, 1],\n",
       "         [0, 0, 0, 1],\n",
       "         [0, 0, 0, 1],\n",
       "         [1, 1, 1, 1]],\n",
       "\n",
       "        [[0, 0, 0, 1],\n",
       "         [0, 0, 0, 1],\n",
       "         [0, 0, 0, 1],\n",
       "         [1, 1, 1, 1]]], dtype=torch.uint8)"
      ]
     },
     "execution_count": 196,
     "metadata": {},
     "output_type": "execute_result"
    }
   ],
   "source": [
    "get_padding_mask(x, x, pad_idx=1, mode=\"attn\")"
   ]
  },
  {
   "cell_type": "code",
   "execution_count": 197,
   "metadata": {},
   "outputs": [
    {
     "data": {
      "text/plain": [
       "tensor([[[0, 1, 1, 1],\n",
       "         [0, 0, 1, 1],\n",
       "         [0, 0, 0, 1],\n",
       "         [0, 0, 0, 0]],\n",
       "\n",
       "        [[0, 1, 1, 1],\n",
       "         [0, 0, 1, 1],\n",
       "         [0, 0, 0, 1],\n",
       "         [0, 0, 0, 0]],\n",
       "\n",
       "        [[0, 1, 1, 1],\n",
       "         [0, 0, 1, 1],\n",
       "         [0, 0, 0, 1],\n",
       "         [0, 0, 0, 0]],\n",
       "\n",
       "        [[0, 1, 1, 1],\n",
       "         [0, 0, 1, 1],\n",
       "         [0, 0, 0, 1],\n",
       "         [0, 0, 0, 0]]], dtype=torch.uint8)"
      ]
     },
     "execution_count": 197,
     "metadata": {},
     "output_type": "execute_result"
    }
   ],
   "source": [
    "get_padding_mask(t, mode=\"subseq\")"
   ]
  },
  {
   "cell_type": "code",
   "execution_count": 198,
   "metadata": {},
   "outputs": [],
   "source": [
    "attn_mask = get_padding_mask(q=t, k=t, pad_idx=1, mode='attn')\n",
    "subseq_mask = get_padding_mask(q=t, mode='subseq')\n",
    "self_attn_mask = (attn_mask + subseq_mask).gt(0)"
   ]
  },
  {
   "cell_type": "code",
   "execution_count": 199,
   "metadata": {},
   "outputs": [
    {
     "data": {
      "text/plain": [
       "tensor([[[0, 1, 1, 1],\n",
       "         [0, 0, 1, 1],\n",
       "         [0, 0, 0, 1],\n",
       "         [1, 1, 1, 1]],\n",
       "\n",
       "        [[0, 1, 1, 1],\n",
       "         [0, 0, 1, 1],\n",
       "         [0, 0, 0, 1],\n",
       "         [0, 0, 0, 0]],\n",
       "\n",
       "        [[0, 1, 1, 1],\n",
       "         [0, 0, 1, 1],\n",
       "         [1, 1, 1, 1],\n",
       "         [1, 1, 1, 1]],\n",
       "\n",
       "        [[0, 1, 1, 1],\n",
       "         [0, 0, 1, 1],\n",
       "         [0, 0, 0, 1],\n",
       "         [1, 1, 1, 1]]], dtype=torch.uint8)"
      ]
     },
     "execution_count": 199,
     "metadata": {},
     "output_type": "execute_result"
    }
   ],
   "source": [
    "self_attn_mask # decoder"
   ]
  },
  {
   "cell_type": "code",
   "execution_count": 202,
   "metadata": {},
   "outputs": [
    {
     "data": {
      "text/plain": [
       "torch.Size([4, 4, 24])"
      ]
     },
     "execution_count": 202,
     "metadata": {},
     "output_type": "execute_result"
    }
   ],
   "source": [
    "# decoder self attention\n",
    "multiheadattention = MultiHeadAttention(n_head, d_model, d_k, d_v)\n",
    "multiheadattention.eval()\n",
    "o, attn = multiheadattention(q=target_inputs, k=target_inputs, v=target_inputs, mask=self_attn_mask)\n",
    "o.size()"
   ]
  },
  {
   "cell_type": "code",
   "execution_count": 203,
   "metadata": {},
   "outputs": [
    {
     "data": {
      "image/png": "[encoded data removed]",
      "text/plain": [
       "<Figure size 432x288 with 4 Axes>"
      ]
     },
     "metadata": {
      "needs_background": "light"
     },
     "output_type": "display_data"
    }
   ],
   "source": [
    "fig, axes = plt.subplots(4, 1)\n",
    "for i in range(4):\n",
    "    axes[i].matshow(o[i].detach().numpy(), cmap=\"binary\")\n",
    "plt.tight_layout()\n",
    "plt.show()"
   ]
  },
  {
   "cell_type": "markdown",
   "metadata": {},
   "source": [
    "## Layers"
   ]
  },
  {
   "cell_type": "code",
   "execution_count": 204,
   "metadata": {},
   "outputs": [],
   "source": [
    "# Encode Layer\n",
    "class Encode_Layer(nn.Module):\n",
    "    \"\"\"encode layer\"\"\"\n",
    "    def __init__(self, n_head, d_model, d_k, d_v, d_f, drop_rate=0.1, use_conv=False):\n",
    "        super(Encode_Layer, self).__init__()\n",
    "        self.n_head = n_head\n",
    "        self.selfattn = MultiHeadAttention(n_head, d_model, d_k, d_v, drop_rate=drop_rate)\n",
    "        self.pwffn = PositionWiseFFN(d_model, d_f, drop_rate=drop_rate, use_conv=use_conv)\n",
    "        \n",
    "    def forward(self, enc_input, enc_mask=None):\n",
    "\n",
    "        \"\"\"\n",
    "        Inputs:\n",
    "        * enc_input: (B, T_e, d_model)\n",
    "        * enc_mask: (B, T_e, T_e)\n",
    "        * non_pad_mask: (B, T_e, 1)\n",
    "        -------------------------------------\n",
    "        Outputs:\n",
    "        * enc_output: (B, T_e, d_model)\n",
    "        * enc_attn: (n_head*B, T_e, T_e)\n",
    "        \"\"\"\n",
    "        # Layer: Multi-Head Attention + Add & Norm\n",
    "        # encode self-attention\n",
    "        enc_output, enc_attn = self.selfattn(enc_input, enc_input, enc_input, mask=enc_mask)\n",
    "        \n",
    "        # Layer: PositionWiseFFN + Add & Norm\n",
    "        pw_output = self.pwffn(enc_output)\n",
    "\n",
    "        return enc_output, enc_attn"
   ]
  },
  {
   "cell_type": "code",
   "execution_count": 207,
   "metadata": {},
   "outputs": [],
   "source": [
    "# Decode Layer\n",
    "class Decode_Layer(nn.Module):\n",
    "    \"\"\"decode layer\"\"\"\n",
    "    def __init__(self, n_head, d_model, d_k, d_v, d_f, drop_rate=0.1, use_conv=False):\n",
    "        super(Decode_Layer, self).__init__()\n",
    "        self.n_head = n_head\n",
    "        self.selfattn_masked = MultiHeadAttention(n_head, d_model, d_k, d_v, drop_rate=drop_rate)\n",
    "        self.dec_enc_attn = MultiHeadAttention(n_head, d_model, d_k, d_v, drop_rate=drop_rate)\n",
    "        self.pwffn = PositionWiseFFN(d_model, d_f, drop_rate=drop_rate, use_conv=use_conv)\n",
    "    \n",
    "    def forward(self, dec_input, enc_output, dec_self_mask=None, dec_enc_mask=None):\n",
    "        \"\"\"\n",
    "        Inputs:\n",
    "        * dec_input: (B, T_d, d_model)\n",
    "        * enc_input: (B, T_e, d_model)\n",
    "        * dec_self_mask: (B, T_d, T_d)\n",
    "        * dec_enc_mask: (B, T_d, T_e)\n",
    "        * non_pad_mask: (B, T_d, 1)\n",
    "        -------------------------------------\n",
    "        Outputs:\n",
    "        * dec_output: (B, T_d, d_model)\n",
    "        * dec_self_attn: (n_head*B, T_d, T_d)\n",
    "        * dec_enc_attn: (n_head*B, T_d, T_e)\n",
    "        \"\"\"\n",
    "        # Layer: Multi-Head Attention + Add & Norm\n",
    "        # decode self-attention\n",
    "        dec_self_output, dec_self_attn = \\\n",
    "            self.selfattn_masked(dec_input, dec_input, dec_input, mask=dec_self_mask)\n",
    "        \n",
    "        # Layer: Multi-Head Attention + Add & Norm\n",
    "        # decode output(queries) + encode output(keys, values)\n",
    "        dec_output, dec_enc_attn = \\\n",
    "            self.dec_enc_attn(dec_self_output, enc_output, enc_output, mask=dec_enc_mask)\n",
    "        \n",
    "        # Layer: PositionWiseFFN + Add & Norm\n",
    "        dec_output = self.pwffn(dec_output)\n",
    "\n",
    "        return dec_output, (dec_self_attn, dec_enc_attn)    "
   ]
  },
  {
   "cell_type": "code",
   "execution_count": 208,
   "metadata": {},
   "outputs": [
    {
     "name": "stdout",
     "output_type": "stream",
     "text": [
      "torch.Size([4, 4, 4])\n",
      "torch.Size([4, 4, 24]) torch.Size([32, 4, 4])\n"
     ]
    }
   ],
   "source": [
    "enc_layer = Encode_Layer(n_head, d_model, d_k, d_v, d_f)\n",
    "dec_layer = Decode_Layer(n_head, d_model, d_k, d_v, d_f)\n",
    "\n",
    "enc_mask = get_padding_mask(x, x, pad_idx=1, mode='attn')\n",
    "enc_layer.eval()\n",
    "enc_output, enc_attn = enc_layer.forward(inputs, enc_mask=enc_mask)\n",
    "\n",
    "\n",
    "print(enc_mask.size())\n",
    "print(enc_output.size(), enc_attn.size())"
   ]
  },
  {
   "cell_type": "code",
   "execution_count": 209,
   "metadata": {},
   "outputs": [
    {
     "name": "stdout",
     "output_type": "stream",
     "text": [
      "torch.Size([4, 4, 4]) torch.Size([4, 4, 4])\n",
      "torch.Size([4, 4, 24]) torch.Size([32, 4, 4]) torch.Size([32, 4, 4])\n"
     ]
    }
   ],
   "source": [
    "dec_mask = (get_padding_mask(t, t, pad_idx=1, mode='attn') + \\\n",
    "    get_padding_mask(t, pad_idx=1, mode='subseq')).gt(0)\n",
    "dec_enc_mask = get_padding_mask(t, x, pad_idx=1, mode='attn')\n",
    "dec_layer.eval()\n",
    "dec_output, (dec_self_attn, dec_enc_attn) = dec_layer.forward(target_inputs, \n",
    "                                                            enc_output, \n",
    "                                                            dec_self_mask=dec_mask, \n",
    "                                                            dec_enc_mask=dec_enc_mask)\n",
    "\n",
    "# print(dec_mask.size(), dec_enc_mask.size(), non_pad_mask.size())\n",
    "print(dec_mask.size(), dec_enc_mask.size())\n",
    "print(enc_output.size(), dec_self_attn.size(), dec_enc_attn.size())"
   ]
  },
  {
   "cell_type": "code",
   "execution_count": 210,
   "metadata": {},
   "outputs": [
    {
     "data": {
      "text/plain": [
       "tensor([[6, 5, 3, 1],\n",
       "        [2, 3, 1, 1],\n",
       "        [5, 3, 6, 1],\n",
       "        [3, 6, 2, 1]])"
      ]
     },
     "execution_count": 210,
     "metadata": {},
     "output_type": "execute_result"
    }
   ],
   "source": [
    "x"
   ]
  },
  {
   "cell_type": "code",
   "execution_count": 211,
   "metadata": {},
   "outputs": [
    {
     "data": {
      "image/png": "[encoded data removed]",
      "text/plain": [
       "<Figure size 600x400 with 8 Axes>"
      ]
     },
     "metadata": {
      "needs_background": "light"
     },
     "output_type": "display_data"
    }
   ],
   "source": [
    "# there is only 2 sequence in 2nd sentence of x\n",
    "enc_output.size(), enc_attn.size()\n",
    "draw_attentions(n_head, torch.stack(torch.chunk(enc_attn, n_head))[:, 1, :, :])"
   ]
  },
  {
   "cell_type": "code",
   "execution_count": 212,
   "metadata": {
    "scrolled": true
   },
   "outputs": [
    {
     "data": {
      "text/plain": [
       "tensor([[2, 4, 3, 1],\n",
       "        [2, 7, 9, 3],\n",
       "        [2, 3, 1, 1],\n",
       "        [2, 9, 3, 1]])"
      ]
     },
     "execution_count": 212,
     "metadata": {},
     "output_type": "execute_result"
    }
   ],
   "source": [
    "t"
   ]
  },
  {
   "cell_type": "code",
   "execution_count": 217,
   "metadata": {},
   "outputs": [
    {
     "data": {
      "text/plain": [
       "tensor([[0, 1, 1, 1],\n",
       "        [0, 0, 1, 1],\n",
       "        [0, 0, 0, 1],\n",
       "        [0, 0, 0, 0]], dtype=torch.uint8)"
      ]
     },
     "execution_count": 217,
     "metadata": {},
     "output_type": "execute_result"
    }
   ],
   "source": [
    "dec_mask[1]"
   ]
  },
  {
   "cell_type": "code",
   "execution_count": 215,
   "metadata": {},
   "outputs": [
    {
     "name": "stdout",
     "output_type": "stream",
     "text": [
      "torch.Size([4, 4, 24]) torch.Size([32, 4, 4]) torch.Size([32, 4, 4])\n",
      "1st batch: decoder self attentions\n"
     ]
    },
    {
     "data": {
      "image/png": "[encoded data removed]",
      "text/plain": [
       "<Figure size 600x400 with 8 Axes>"
      ]
     },
     "metadata": {
      "needs_background": "light"
     },
     "output_type": "display_data"
    },
    {
     "name": "stdout",
     "output_type": "stream",
     "text": [
      "1st batch: decoder-encoder self attentions\n"
     ]
    },
    {
     "data": {
      "image/png": "[encoded data removed]",
      "text/plain": [
       "<Figure size 600x400 with 8 Axes>"
      ]
     },
     "metadata": {
      "needs_background": "light"
     },
     "output_type": "display_data"
    }
   ],
   "source": [
    "print(dec_output.size(), dec_self_attn.size(), dec_enc_attn.size())\n",
    "print(\"2st batch: decoder self attentions\")\n",
    "draw_attentions(n_head, torch.stack(torch.chunk(dec_self_attn, n_head))[:, 1, :, :])\n",
    "print(\"2st batch: decoder-encoder self attentions\")\n",
    "draw_attentions(n_head, torch.stack(torch.chunk(dec_enc_attn, n_head))[:, 1, :, :])"
   ]
  },
  {
   "cell_type": "markdown",
   "metadata": {},
   "source": [
    "## Models: Encoder & Decoder - Transformer"
   ]
  },
  {
   "cell_type": "code",
   "execution_count": 234,
   "metadata": {},
   "outputs": [],
   "source": [
    "\n",
    "# Encoder \n",
    "class Encoder(nn.Module):\n",
    "    def __init__(self, vocab_len, max_seq_len, n_layer, n_head, d_model, d_k, d_v, d_f, \n",
    "                 drop_rate=0.1, use_conv=False, pad_idx=1, pos_pad_idx=0):\n",
    "        super(Encoder, self).__init__()\n",
    "        self.n_head = n_head\n",
    "        self.pad_idx = pad_idx\n",
    "        self.drop_out = nn.Dropout(drop_rate)\n",
    "        self.embed_layer = Embedding(vocab_len, d_model, padding_idx=pad_idx)\n",
    "#         n_pos = max_seq_len + sum([1 for x in (pad_idx, sos_idx, eos_idx) if x is not None])\n",
    "        self.pos_layer = PositionalEncoding(max_seq_len+1, d_model, pos_pad_idx=pos_pad_idx)\n",
    "        self.layers = nn.ModuleList([Encode_Layer(n_head, d_model, d_k, d_v, d_f, \n",
    "                                                  drop_rate=drop_rate, \n",
    "                                                  use_conv=use_conv) \\\n",
    "                                     for i in range(n_layer)])\n",
    "        \n",
    "    def forward(self, enc, enc_pos, return_attn=False):\n",
    "        \"\"\"\n",
    "        Inputs:\n",
    "        * enc: (B, T_e)\n",
    "        * enc_pos: (B, T_e)\n",
    "        -------------------------------------\n",
    "        Outputs:\n",
    "        * enc_output: (B, T_e, d_model)\n",
    "        * self_attns: n_layer * (n_head, B, T_e, T_e)\n",
    "        \"\"\"\n",
    "        self_attns = []  # n_layer * (n_head, B, T_e, T_e)\n",
    "        # self attention padding mask: (B, T_e, T_e)\n",
    "        attn_mask = get_padding_mask(q=enc, k=enc, pad_idx=self.pad_idx, mode='attn')\n",
    "        \n",
    "        # embedding + position encoding: (B, T_e) --> (B, T_e, d_model)\n",
    "        enc_output = self.embed_layer(enc) + self.pos_layer(enc_pos)\n",
    "        enc_output = self.drop_out(enc_output)\n",
    "        \n",
    "        # forward encode layer\n",
    "        for enc_layer in self.layers:\n",
    "            enc_output, enc_self_attn = enc_layer(enc_input=enc_output, \n",
    "                                                  enc_mask=attn_mask)\n",
    "            self_attns.append(torch.stack(torch.chunk(enc_self_attn, self.n_head)))\n",
    "        \n",
    "        if return_attn:\n",
    "            return enc_output, self_attns\n",
    "        else:\n",
    "            return enc_output"
   ]
  },
  {
   "cell_type": "code",
   "execution_count": 245,
   "metadata": {},
   "outputs": [],
   "source": [
    "class Decoder(nn.Module):\n",
    "    def __init__(self, vocab_len, max_seq_len, n_layer, n_head, d_model, d_k, d_v, d_f, \n",
    "                 drop_rate=0.1, use_conv=False, pad_idx=1, pos_pad_idx=0):\n",
    "        super(Decoder, self).__init__()\n",
    "        self.n_head = n_head\n",
    "        self.pad_idx = pad_idx\n",
    "        self.dropout = nn.Dropout(drop_rate)\n",
    "        self.embed_layer = Embedding(vocab_len, d_model, padding_idx=pad_idx)\n",
    "        # decoder position embedding have to add 3 since there are <s>, </s> token\n",
    "#         n_pos = max_seq_len + sum([1 for x in (pad_idx, sos_idx, eos_idx) if x is not None])\n",
    "        self.pos_layer = PositionalEncoding(max_seq_len+1, d_model, pos_pad_idx=pos_pad_idx)\n",
    "        self.layers = nn.ModuleList([Decode_Layer(n_head, d_model, d_k, d_v, d_f, \n",
    "                                                  drop_rate=drop_rate, \n",
    "                                                  use_conv=use_conv) \\\n",
    "                                     for i in range(n_layer)])\n",
    "        \n",
    "    def forward(self, dec, dec_pos, enc, enc_output, return_attn=False):\n",
    "        \"\"\"\n",
    "        Inputs:\n",
    "        * dec: (B, T_d)\n",
    "        * dec_pos: (B, T_d)\n",
    "        * enc: (B, T_e)\n",
    "        * enc_output: (B, T_d, d_model)\n",
    "        -------------------------------------\n",
    "        Outputs:\n",
    "        * dec_output: (B, T_d, d_model)\n",
    "        * self_attns: n_layer *(n_head, B, T_d, T_d)\n",
    "        * dec_enc_attns: n_layer *(n_head, B, T_d, T_e)\n",
    "        \"\"\"\n",
    "        self_attns = []  # n_layer * (n_head, B, T_d, T_d)\n",
    "        dec_enc_attns = []  # n_layer * (n_head, B, T_d, T_e)\n",
    "        \n",
    "        \n",
    "        # self attention padding mask: (B, T_d, T_d)\n",
    "        attn_mask = get_padding_mask(q=dec, k=dec, pad_idx=self.pad_idx, mode='attn')\n",
    "        subseq_mask = get_padding_mask(q=dec, mode='subseq')\n",
    "        self_attn_mask = (attn_mask + subseq_mask).gt(0)\n",
    "        # enc_dec attention padding mask: (B, T_d, T_e)\n",
    "        dec_enc_attn_mask = get_padding_mask(q=dec, k=enc, pad_idx=self.pad_idx, mode='attn')\n",
    "        \n",
    "        # embedding + position encoding: (B, T_d) --> (B, T_d, d_model)\n",
    "        dec_output = self.embed_layer(dec) + self.pos_layer(dec_pos)\n",
    "        dec_output = self.dropout(dec_output)\n",
    "        # forward decode layer\n",
    "        for dec_layer in self.layers:\n",
    "            dec_output, (dec_self_attn, dec_enc_attn) = \\\n",
    "                    dec_layer(dec_input=dec_output, \n",
    "                              enc_output=enc_output, \n",
    "                              dec_self_mask=self_attn_mask, \n",
    "                              dec_enc_mask=dec_enc_attn_mask)\n",
    "            \n",
    "            self_attns.append(torch.stack(torch.chunk(dec_self_attn, self.n_head)))\n",
    "            dec_enc_attns.append(torch.stack(torch.chunk(dec_enc_attn, self.n_head)))\n",
    "        \n",
    "        if return_attn:\n",
    "            return dec_output, (self_attns, dec_enc_attns)\n",
    "        else:\n",
    "            return dec_output\n",
    "    "
   ]
  },
  {
   "cell_type": "code",
   "execution_count": 246,
   "metadata": {},
   "outputs": [],
   "source": [
    "n_layer = 3\n",
    "encoder = Encoder(vocab_len, 4, n_layer, n_head, d_model, d_k, d_v, d_f)\n",
    "decoder = Decoder(vocab_len, 4, n_layer, n_head, d_model, d_k, d_v, d_f)"
   ]
  },
  {
   "cell_type": "code",
   "execution_count": 247,
   "metadata": {},
   "outputs": [],
   "source": [
    "encoder.eval()\n",
    "decoder.eval()\n",
    "enc_output, enc_self_attns = encoder(x, po_x, return_attn=True)\n",
    "dec_output, (dec_self_attns, dec_enc_attns) = decoder(t, po_t, x, enc_output, return_attn=True)"
   ]
  },
  {
   "cell_type": "code",
   "execution_count": 248,
   "metadata": {},
   "outputs": [
    {
     "data": {
      "text/plain": [
       "(torch.Size([4, 4, 24]), torch.Size([4, 4, 24]))"
      ]
     },
     "execution_count": 248,
     "metadata": {},
     "output_type": "execute_result"
    }
   ],
   "source": [
    "enc_output.size(), dec_output.size()"
   ]
  },
  {
   "cell_type": "code",
   "execution_count": 288,
   "metadata": {},
   "outputs": [],
   "source": [
    "class Transformer(nn.Module):\n",
    "    \"\"\"Transformer Model\"\"\"\n",
    "    def __init__(self, enc_vocab_len, enc_max_seq_len, dec_vocab_len, dec_max_seq_len, \n",
    "                 n_layer, n_head, d_model, d_k, d_v, d_f, \n",
    "                 pad_idx=1, pos_pad_idx=0, drop_rate=0.1, use_conv=False,\n",
    "                 linear_weight_share=True, embed_weight_share=False):\n",
    "        super(Transformer, self).__init__()\n",
    "        self.pad_idx = pad_idx\n",
    "        self.d_model = d_model\n",
    "        \n",
    "        self.encoder = Encoder(enc_vocab_len, enc_max_seq_len, n_layer, n_head, \n",
    "                               d_model, d_k, d_v, d_f, \n",
    "                               pad_idx=pad_idx, \n",
    "                               pos_pad_idx=pos_pad_idx,\n",
    "                               drop_rate=drop_rate,\n",
    "                               use_conv=use_conv)\n",
    "        self.decoder = Decoder(dec_vocab_len, dec_max_seq_len, n_layer, n_head, \n",
    "                               d_model, d_k, d_v, d_f,\n",
    "                               pad_idx=pad_idx, \n",
    "                               pos_pad_idx=pos_pad_idx,\n",
    "                               drop_rate=drop_rate, \n",
    "                               use_conv=use_conv)\n",
    "        self.projection = nn.Linear(d_model, dec_vocab_len, bias=False)\n",
    "        if linear_weight_share:\n",
    "            # share the same weight matrix between the decoder embedding layer \n",
    "            # and the pre-softmax linear transformation\n",
    "            self.projection.weight = self.decoder.embed_layer.embedding.weight\n",
    "        \n",
    "        if embed_weight_share:\n",
    "            # share the same weight matrix between the decoder embedding layer \n",
    "            # and the encoder embedding layer\n",
    "            assert enc_vocab_len == dec_vocab_len, \"vocab length must be same\"\n",
    "            self.encoder.embed_layer.embedding.weight = self.decoder.embed_layer.embedding.weight\n",
    "            \n",
    "    def forward(self, enc, enc_pos, dec, dec_pos, return_attn=False):\n",
    "        \"\"\"\n",
    "        Inputs:\n",
    "        * enc: (B, T_e)\n",
    "        * enc_pos: (B, T_e)\n",
    "        * dec: (B, T_d)\n",
    "        * dec_pos: (B, T_d)\n",
    "        -------------------------------------\n",
    "        Outputs:\n",
    "        * dec_output: (B, T_d, V)\n",
    "        * attns_dict:\n",
    "            * enc_self_attns: n_layers * (n_head, B, T_e, T_e)\n",
    "            * dec_self_attns: n_layers * (n_head, B, T_d, T_d)\n",
    "            * dec_enc_attns: n_layers * (n_haed, B, T_d, T_e)\n",
    "        \"\"\"\n",
    "        \n",
    "        # given previous dec inputs predict next dec\n",
    "        dec = dec[:, :-1]\n",
    "        dec_pos = dec_pos[:, :-1]\n",
    "        \n",
    "        if return_attn:\n",
    "            enc_output, enc_self_attns = self.encoder(enc, enc_pos, return_attn)\n",
    "            dec_output, (dec_self_attns, dec_enc_attns) = self.decoder(dec, dec_pos, enc, enc_output, return_attn)\n",
    "            dec_output = self.projection(dec_output)\n",
    "            attns_dict = {'enc_self_attns': enc_self_attns, \n",
    "                         'dec_self_attns': dec_self_attns,\n",
    "                         'dec_enc_attns': dec_enc_attns}\n",
    "            return dec_output, attns_dict\n",
    "        else:\n",
    "            enc_output = self.encoder(enc, enc_pos, return_attn)\n",
    "            dec_output = self.decoder(dec, dec_pos, enc, enc_output, return_attn)\n",
    "            dec_output = self.projection(dec_output)\n",
    "            return dec_output"
   ]
  },
  {
   "cell_type": "code",
   "execution_count": 289,
   "metadata": {},
   "outputs": [],
   "source": [
    "model = Transformer(vocab_len, 4, vocab_len, 4, n_layer, n_head, d_model, d_k, d_v, d_f, \n",
    "                    pad_idx=1, pos_pad_idx=0, drop_rate=0.1, use_conv=False, \n",
    "                    linear_weight_share=False, embed_weight_share=False)"
   ]
  },
  {
   "cell_type": "code",
   "execution_count": 297,
   "metadata": {},
   "outputs": [],
   "source": [
    "model.eval()\n",
    "output = model(x, po_x, t, po_t, return_attn=False)\n",
    "real_target = t[:, 1:].contiguous()"
   ]
  },
  {
   "cell_type": "code",
   "execution_count": 298,
   "metadata": {},
   "outputs": [
    {
     "data": {
      "text/plain": [
       "tensor([4, 3, 1, 7, 9, 3, 3, 1, 1, 9, 3, 1])"
      ]
     },
     "execution_count": 298,
     "metadata": {},
     "output_type": "execute_result"
    }
   ],
   "source": [
    "real_target.view(-1)"
   ]
  },
  {
   "cell_type": "code",
   "execution_count": 292,
   "metadata": {},
   "outputs": [
    {
     "data": {
      "text/plain": [
       "tensor([4, 9, 9, 7, 3, 7, 4, 9, 3, 3, 9, 9])"
      ]
     },
     "execution_count": 292,
     "metadata": {},
     "output_type": "execute_result"
    }
   ],
   "source": [
    "torch.softmax(output.view(-1, 10), 1).argmax(-1)"
   ]
  },
  {
   "cell_type": "markdown",
   "metadata": {},
   "source": [
    "---"
   ]
  },
  {
   "cell_type": "markdown",
   "metadata": {},
   "source": [
    "## Label Smoothing"
   ]
  },
  {
   "cell_type": "markdown",
   "metadata": {},
   "source": [
    "* Ref: https://arxiv.org/pdf/1512.00567.pdf\n",
    "\n",
    "For each training example x, our model computes the probability of each label $k \\in \\{1 \\cdots K\\}: p(k \\vert x) =\\text{softmax}(x) = \\dfrac{\\exp(z_k)}{\\sum_i^K \\exp(z_i)}$\n",
    ". Here, $z_i$ are the logits or unnormalized logprobabilities. Consider the ground-truth distribution over labels $q(k\\vert x)$ for this training example, normalized so that $\\sum_k q(k\\vert x) = 1$\n",
    "\n",
    "omit $x$\n",
    "\n",
    "\n",
    "cross-entropy: $l = - \\sum_{k=1}^{K} \\log(p(k))q(k)$\n",
    "\n",
    "The gradient has a rather simple form: $\\dfrac{\\partial l}{\\partial z_k} = p(k) - q(k)$ which is bounded\n",
    "between −1 and 1.\n",
    "\n",
    "Consider the case of a single ground-truth label $y$, so that $q(y) = 1$ and $q(k) = 0$ for all $k \\neq y$.  In this case, minimizing the cross entropy is equivalent to maximizing the log-likelihood of the correct label. For a particular example $x$ with label $y$, the log-likelihood is maximized for $q(k) = \\delta_{k,y}$, where $\\delta_{k,y}$ is Dirac delta, which equals 1 for $k = y$ and $0$ otherwise. This maximum is not achievable for finite $z_k$ but is approached if $zy \\gg zk$ for all $k \\neq y$ – that is, if the logit corresponding to the ground-truth label is much great than all other logits. \n",
    "\n",
    "This, however, can cause two problems. First, it may result in over-fitting: if the model learns to assign full probability to the groundtruth label for each training example, it is not guaranteed to\n",
    "generalize. Second, it encourages the differences between the largest logit and all others to become large, and this, combined with the bounded gradient $\\dfrac{\\partial l}{\\partial z_k} = p(k) - q(k)$, reduces the ability of the model to adapt. Intuitively, this happens because the model becomes too confident about its predictions.\n",
    "\n",
    "Only using cross-entropy loss cause two problems. First, it may result in over-fitting: if the model learns to assign full probability to the groundtruth label for each training example, it is not guaranteed to generalize. Second, it encourages the differences between the largest logit and all others to become large, and this, combined with the bounded gradient $\\frac{\\partial l}{\\partial z_{k}}$, reduces the ability of the model to adapt. Intuitively, this happens because the model becomes too confident about its predictions"
   ]
  },
  {
   "cell_type": "markdown",
   "metadata": {},
   "source": [
    "### proposed method: label-smoothing regularization\n",
    "\n",
    "* $u(k)$: a distribution over labels, independent of the training example $x$\n",
    "* $\\epsilon$: a smoothing parameter\n",
    "\n",
    "For a training example with ground-truth label $y$, replace the label distribution $q(k) = \\delta_{k, y}$ to\n",
    "\n",
    "$$q'(k \\vert x) = (1-\\epsilon)\\delta_{k, y}+\\epsilon u(k)$$\n",
    "\n",
    "This can be seen as the distribution of the label $k$ obtained as follows: first, set it to the groundtruth label $k = y$; then, with probability $\\epsilon$, replace $k$ with a sample drawn from the distribution $u(k)$. We propose to use the prior distribution over labels as $u(k)$. In our experiments, we used the uniform distribution $u(k) = 1/K$, so that\n",
    "\n",
    "$$q'(k \\vert x) = (1-\\epsilon)\\delta_{k, y}+ \\dfrac{\\epsilon}{K}$$"
   ]
  },
  {
   "cell_type": "markdown",
   "metadata": {},
   "source": [
    "Another interpretation: $q'$ is changed true probability.\n",
    "\n",
    "$$\\begin{aligned} H(q', p) &= -\\sum_{k=1}^K q'(k) \\log p(k)  \\\\\n",
    "&= -\\sum_{k=1}^K \\big( ((1-\\epsilon)q(x) + \\epsilon u(x)) \\log p(k) \\big) \\\\\n",
    "&= -\\sum_{k=1}^K (1-\\epsilon)q(x) \\log p(k) -\\sum_{k=1}^K \\epsilon u(x) \\log p(k) \\\\\n",
    "&= (1-\\epsilon) H(q, p) + \\epsilon H(u, p) \\end{aligned}$$\n",
    "\n",
    "this can be seen as $H(q', p) = H(q, p) + \\dfrac{\\epsilon}{(1-\\epsilon) } \\big( D_{KL}(u \\vert\\vert p) + H(u) \\big) $ and $H(u)$ is fixed. When $u$ is the uniform distribution, $H(u, p)$ is a measure of how dissimilar the predicted distribution $p$ is to uniform, which could also be measured (but not equivalently) by negative entropy $−H(p)$;\n",
    "\n",
    "* $H(u, p) = D_{KL}(u \\vert\\vert p) + H(u)$\n"
   ]
  },
  {
   "cell_type": "code",
   "execution_count": 303,
   "metadata": {},
   "outputs": [],
   "source": [
    "import torch\n",
    "import torch.nn as nn\n",
    "import torch.nn.functional as F\n",
    "\n",
    "class LabelSmoothing(nn.Module):\n",
    "    \"\"\"Label Smoothing\"\"\"\n",
    "    def __init__(self, trg_vocab_size, pad_idx, eps=0.0):\n",
    "        \"\"\"\n",
    "        - eps: smoothing parameters, set it 0.0 to use crossentropy\n",
    "        \n",
    "        -------------------------------------------------\n",
    "        ref: https://arxiv.org/pdf/1512.00567.pdf\n",
    "        ref: http://nlp.seas.harvard.edu/2018/04/03/attention.html\n",
    "        #7\n",
    "        - k : predict class\n",
    "        - y : target class \n",
    "        In Cross Entropy H(q, p) = -\\sum q(k|x) log p(k|x)\n",
    "        replace ground truth distribution (q(k|x) = \\delta_{k, y}) to\n",
    "        q'(k|x) = (1 - eps) q(k|x) + eps * u(k)\n",
    "        where: q(k|x) = 1 if k == y else 0, u(k) = unifrom distribution to labels (ex. 1/K)\n",
    "        \n",
    "        Equal to H(q', p) = H(q, p) + eps/(1-eps) * (D_KL(u || p) + H(u))\n",
    "        \"\"\"\n",
    "        super(LabelSmoothing, self).__init__()\n",
    "        if eps == 0.0:\n",
    "            self.criterion = nn.CrossEntropyLoss(ignore_index=pad_idx, reduction='sum')\n",
    "        else:\n",
    "            self.criterion = nn.KLDivLoss(reduction='sum')\n",
    "        self.pad_idx = pad_idx\n",
    "        self.eps = eps\n",
    "        self.trg_vocab_size = trg_vocab_size\n",
    "        \n",
    "    def forward(self, x, t):\n",
    "        \"\"\"\n",
    "        Inputs:\n",
    "        x: (B, T_d, V_target), predict scores\n",
    "        t: (B, T_d)\n",
    "        \"\"\"\n",
    "        assert x.size(2) == self.trg_vocab_size, \\\n",
    "            'vocab size is not equal x: {}, vocab: {}'.format(x.size(2), self.trg_vocab_size)\n",
    "        assert t.dim() == 2, 't must be size of (B, T_q)'\n",
    "        \n",
    "        target = t.contiguous().view(-1)\n",
    "        pred = x.view(-1, x.size(-1))\n",
    "        \n",
    "        # option to not use label smoothing\n",
    "        if self.eps == 0.0:\n",
    "            return self.criterion(pred, target)\n",
    "        # onehot encoding\n",
    "        delta_ky = torch.zeros_like(pred).scatter(dim=1, index=target.unsqueeze(1), source=1)\n",
    "        # smoothing\n",
    "        smoothed_dist = (1 - self.eps) * delta_ky + (1 - delta_ky) * self.eps / (self.trg_vocab_size - 1)\n",
    "        smoothed_dist[:, self.pad_idx] = 0.0\n",
    "        pad_mask = torch.nonzero(target == self.pad_idx).squeeze()\n",
    "        smoothed_dist = smoothed_dist.index_fill(0, pad_mask, 0.0)\n",
    "        # probability and cal loss\n",
    "        log_prob = F.log_softmax(pred, dim=1)\n",
    "        loss = self.criterion(log_prob, smoothed_dist)\n",
    "        \n",
    "        self.smoothed_dist = smoothed_dist\n",
    "        return loss\n",
    "        \n",
    "#         # onehot encoding\n",
    "#         delta_ky = torch.zeros_like(pred).scatter(dim=1, index=target.unsqueeze(1), source=1)\n",
    "#         # smoothing\n",
    "#         smoothed_dist = (1 - self.eps) * delta_ky + (1 - delta_ky) * self.eps / (self.trg_vocab_size - 1)\n",
    "#         # probability and cal loss\n",
    "#         log_prob = F.log_softmax(pred, dim=1)\n",
    "#         non_pad_mask = target.ne(self.pad_idx)\n",
    "#         loss = -(smoothed_dist * log_prob).sum(dim=1)\n",
    "#         loss = loss.masked_select(non_pad_mask).sum()\n",
    "        \n",
    "#         # 이전코드\n",
    "#         non_pad_mask = get_padding_mask(q=target, pad_idx=1, mode='nonpad')\n",
    "#         # label smoothing\n",
    "#         delta_ky = torch.zeros_like(x)\n",
    "#         delta_ky = delta_ky.scatter(dim=2, index=target.unsqueeze(-1), source=1)\n",
    "#         # -2: exclude <s>, </s> token\n",
    "#         # smoothed_dist: B, T_d, vocab_size\n",
    "#         smoothed_dist = (1 - self.eps) * delta_ky + self.eps / (self.trg_vocab_size - 2)\n",
    "#         smoothed_dist *= non_pad_mask\n",
    "#         log_prob = F.log_softmax(x, dim=2)\n",
    "#         loss = (-(smoothed_dist * log_prob)).sum()\n",
    "    \n",
    "        "
   ]
  },
  {
   "cell_type": "code",
   "execution_count": 304,
   "metadata": {},
   "outputs": [],
   "source": [
    "lbs = LabelSmoothing(trg_vocab_size=vocab_len, pad_idx=1, eps=0.1)"
   ]
  },
  {
   "cell_type": "code",
   "execution_count": 306,
   "metadata": {},
   "outputs": [
    {
     "data": {
      "text/plain": [
       "tensor(11.7059, grad_fn=<KlDivBackward>)"
      ]
     },
     "execution_count": 306,
     "metadata": {},
     "output_type": "execute_result"
    }
   ],
   "source": [
    "lbs(output, t[:, 1:])"
   ]
  },
  {
   "cell_type": "code",
   "execution_count": 307,
   "metadata": {},
   "outputs": [
    {
     "data": {
      "text/plain": [
       "<matplotlib.image.AxesImage at 0x7f10674891d0>"
      ]
     },
     "execution_count": 307,
     "metadata": {},
     "output_type": "execute_result"
    },
    {
     "data": {
      "image/png": "[encoded data removed]",
      "text/plain": [
       "<Figure size 288x345.6 with 1 Axes>"
      ]
     },
     "metadata": {
      "needs_background": "light"
     },
     "output_type": "display_data"
    }
   ],
   "source": [
    "plt.matshow(lbs.smoothed_dist, cmap=\"binary\")"
   ]
  },
  {
   "cell_type": "code",
   "execution_count": 308,
   "metadata": {},
   "outputs": [
    {
     "data": {
      "text/plain": [
       "tensor([[0.0111, 0.0000, 0.0111, 0.0111, 0.9000, 0.0111, 0.0111, 0.0111, 0.0111,\n",
       "         0.0111],\n",
       "        [0.0111, 0.0000, 0.0111, 0.9000, 0.0111, 0.0111, 0.0111, 0.0111, 0.0111,\n",
       "         0.0111],\n",
       "        [0.0000, 0.0000, 0.0000, 0.0000, 0.0000, 0.0000, 0.0000, 0.0000, 0.0000,\n",
       "         0.0000],\n",
       "        [0.0111, 0.0000, 0.0111, 0.0111, 0.0111, 0.0111, 0.0111, 0.9000, 0.0111,\n",
       "         0.0111],\n",
       "        [0.0111, 0.0000, 0.0111, 0.0111, 0.0111, 0.0111, 0.0111, 0.0111, 0.0111,\n",
       "         0.9000],\n",
       "        [0.0111, 0.0000, 0.0111, 0.9000, 0.0111, 0.0111, 0.0111, 0.0111, 0.0111,\n",
       "         0.0111],\n",
       "        [0.0111, 0.0000, 0.0111, 0.9000, 0.0111, 0.0111, 0.0111, 0.0111, 0.0111,\n",
       "         0.0111],\n",
       "        [0.0000, 0.0000, 0.0000, 0.0000, 0.0000, 0.0000, 0.0000, 0.0000, 0.0000,\n",
       "         0.0000],\n",
       "        [0.0000, 0.0000, 0.0000, 0.0000, 0.0000, 0.0000, 0.0000, 0.0000, 0.0000,\n",
       "         0.0000],\n",
       "        [0.0111, 0.0000, 0.0111, 0.0111, 0.0111, 0.0111, 0.0111, 0.0111, 0.0111,\n",
       "         0.9000],\n",
       "        [0.0111, 0.0000, 0.0111, 0.9000, 0.0111, 0.0111, 0.0111, 0.0111, 0.0111,\n",
       "         0.0111],\n",
       "        [0.0000, 0.0000, 0.0000, 0.0000, 0.0000, 0.0000, 0.0000, 0.0000, 0.0000,\n",
       "         0.0000]])"
      ]
     },
     "execution_count": 308,
     "metadata": {},
     "output_type": "execute_result"
    }
   ],
   "source": [
    "lbs.smoothed_dist"
   ]
  },
  {
   "cell_type": "markdown",
   "metadata": {},
   "source": [
    "---"
   ]
  },
  {
   "cell_type": "markdown",
   "metadata": {},
   "source": [
    "## Optimizer"
   ]
  },
  {
   "cell_type": "code",
   "execution_count": 309,
   "metadata": {},
   "outputs": [],
   "source": [
    "class WarmUpOptim(object):\n",
    "    \"\"\"Varied the Learning Rate\"\"\"\n",
    "    def __init__(self, warmup_steps, d_model, optimizer):\n",
    "        \"\"\"\n",
    "        ref: http://nlp.seas.harvard.edu/2018/04/03/attention.html\n",
    "        \"\"\"\n",
    "        self._optimizer = optimizer\n",
    "        self.warmup_steps = warmup_steps\n",
    "        self.d_model = d_model\n",
    "        self._step = 0\n",
    "        self._lrate = 0\n",
    "        \n",
    "    def step(self):\n",
    "        \"\"\"Update parameters and rate\"\"\"\n",
    "        self._step += 1\n",
    "        lrate = self.cal_rate()\n",
    "        for p in self._optimizer.param_groups:\n",
    "            p[\"lr\"] = lrate\n",
    "        self._lrate = lrate\n",
    "        self._optimizer.step()\n",
    "        \n",
    "    def zero_grad(self):\n",
    "        \"\"\"zero_grad for optimizer\"\"\"\n",
    "        return self._optimizer.zero_grad()\n",
    "    \n",
    "    def cal_rate(self, step=None):\n",
    "        \"\"\"lrate = d_model**(-0.5) * min(step**(-0.5), step*warmup_steps**(-1.5))\"\"\"\n",
    "        if step is None:\n",
    "            step = self._step\n",
    "            \n",
    "        lrate = self.d_model**(-0.5) * min(step**(-0.5), step*self.warmup_steps**(-1.5))\n",
    "        return lrate"
   ]
  },
  {
   "cell_type": "code",
   "execution_count": 310,
   "metadata": {},
   "outputs": [],
   "source": [
    "warmup_steps = 4000\n",
    "optimizer = WarmUpOptim(warmup_steps=warmup_steps, d_model=d_model, \n",
    "                        optimizer=optim.Adam(model.parameters(), betas=(0.9, 0.98), eps=10e-9))"
   ]
  },
  {
   "cell_type": "code",
   "execution_count": 311,
   "metadata": {},
   "outputs": [
    {
     "data": {
      "image/png": "[encoded data removed]",
      "text/plain": [
       "<Figure size 432x288 with 1 Axes>"
      ]
     },
     "metadata": {
      "needs_background": "light"
     },
     "output_type": "display_data"
    }
   ],
   "source": [
    "# Three settings of the lrate hyperparameters.\n",
    "# ref: http://nlp.seas.harvard.edu/2018/04/03/attention.html\n",
    "opts = [WarmUpOptim(512, 4000, None), \n",
    "        WarmUpOptim(512, 8000, None),\n",
    "        WarmUpOptim(256, 4000, None)]\n",
    "plt.plot(np.arange(1, 10000), [[opt.cal_rate(i) for opt in opts] for i in range(1, 10000)])\n",
    "plt.legend([\"512:4000\", \"512:8000\", \"256:4000\"])\n",
    "plt.show()"
   ]
  },
  {
   "cell_type": "code",
   "execution_count": 312,
   "metadata": {},
   "outputs": [],
   "source": [
    "import torch"
   ]
  },
  {
   "cell_type": "code",
   "execution_count": 313,
   "metadata": {},
   "outputs": [],
   "source": [
    "def get_pos(x, pad_idx=1, sos_idx=None, eos_idx=None, pos_pad_idx=0):\n",
    "    \"\"\"\n",
    "    return postion of tensor function\n",
    "    pos idx(in the vocabulary):\n",
    "     - pad = 0\n",
    "     - sos = 1 if exist \n",
    "     - eos = 2 if exist (if only eos exist, eos will be 1)\n",
    "    start idx will be 1 or 2 if one exist or 3 if all exist\n",
    "    \"\"\"\n",
    "    exists = lambda x: x is not None\n",
    "    \n",
    "    def process_sos(pos, idx):\n",
    "        pos[:, 0] = idx\n",
    "        return pos\n",
    "    \n",
    "    def process_eos(pos, x, eos_idx, pos_eos_idx):\n",
    "        eos_mask = (x == eos_idx)\n",
    "        pos = (pos+1).masked_fill(eos_mask, pos_eos_idx) \n",
    "        return pos\n",
    "        \n",
    "    B, T = x.size()\n",
    "    pos = torch.arange(1, T+1, device=x.device).expand(B, -1)\n",
    "    if not exists(sos_idx) and exists(eos_idx):\n",
    "        pos_eos_idx = 1\n",
    "        pos = process_eos(pos, x, eos_idx, pos_eos_idx)\n",
    "    elif exists(sos_idx) and exists(eos_idx):\n",
    "        pos_eos_idx = 2\n",
    "        pos = process_eos(pos, x, eos_idx, pos_eos_idx)\n",
    "        pos = process_sos(pos, 1)\n",
    "        \n",
    "    padding_mask = (x == pad_idx)\n",
    "    pos = pos.masked_fill(padding_mask, pos_pad_idx)\n",
    "    return pos"
   ]
  },
  {
   "cell_type": "code",
   "execution_count": 314,
   "metadata": {},
   "outputs": [],
   "source": [
    "y = torch.LongTensor([[2, 7, 6, 8, 5, 3, 1],\n",
    "                      [2, 9, 6, 6, 3, 1, 1],\n",
    "                      [2, 4, 3, 1, 1, 1, 1]])"
   ]
  },
  {
   "cell_type": "code",
   "execution_count": 315,
   "metadata": {},
   "outputs": [
    {
     "data": {
      "text/plain": [
       "tensor([[1, 2, 3, 4, 5, 6, 0],\n",
       "        [1, 2, 3, 4, 5, 0, 0],\n",
       "        [1, 2, 3, 0, 0, 0, 0]])"
      ]
     },
     "execution_count": 315,
     "metadata": {},
     "output_type": "execute_result"
    }
   ],
   "source": [
    "get_pos(y, pad_idx=1)"
   ]
  },
  {
   "cell_type": "code",
   "execution_count": 316,
   "metadata": {},
   "outputs": [
    {
     "data": {
      "text/plain": [
       "tensor([[1, 2, 3, 4, 5, 6, 0],\n",
       "        [1, 2, 3, 4, 5, 0, 0],\n",
       "        [1, 2, 3, 0, 0, 0, 0]])"
      ]
     },
     "execution_count": 316,
     "metadata": {},
     "output_type": "execute_result"
    }
   ],
   "source": [
    "get_pos(y, pad_idx=1, sos_idx=2)"
   ]
  },
  {
   "cell_type": "code",
   "execution_count": 317,
   "metadata": {},
   "outputs": [
    {
     "data": {
      "text/plain": [
       "tensor([[2, 3, 4, 5, 6, 1, 0],\n",
       "        [2, 3, 4, 5, 1, 0, 0],\n",
       "        [2, 3, 1, 0, 0, 0, 0]])"
      ]
     },
     "execution_count": 317,
     "metadata": {},
     "output_type": "execute_result"
    }
   ],
   "source": [
    "get_pos(y, pad_idx=1, eos_idx=3)"
   ]
  },
  {
   "cell_type": "code",
   "execution_count": 318,
   "metadata": {},
   "outputs": [
    {
     "data": {
      "text/plain": [
       "tensor([[1, 3, 4, 5, 6, 2, 0],\n",
       "        [1, 3, 4, 5, 2, 0, 0],\n",
       "        [1, 3, 2, 0, 0, 0, 0]])"
      ]
     },
     "execution_count": 318,
     "metadata": {},
     "output_type": "execute_result"
    }
   ],
   "source": [
    "get_pos(y,  pad_idx=1, sos_idx=2, eos_idx=3)"
   ]
  },
  {
   "cell_type": "code",
   "execution_count": 319,
   "metadata": {},
   "outputs": [
    {
     "data": {
      "text/plain": [
       "tensor([[6, 5, 3, 1],\n",
       "        [2, 3, 1, 1],\n",
       "        [5, 3, 6, 1],\n",
       "        [3, 6, 2, 1]])"
      ]
     },
     "execution_count": 319,
     "metadata": {},
     "output_type": "execute_result"
    }
   ],
   "source": [
    "x"
   ]
  },
  {
   "cell_type": "code",
   "execution_count": 320,
   "metadata": {},
   "outputs": [
    {
     "data": {
      "text/plain": [
       "tensor([[2, 4, 3, 1],\n",
       "        [2, 7, 9, 3],\n",
       "        [2, 3, 1, 1],\n",
       "        [2, 9, 3, 1]])"
      ]
     },
     "execution_count": 320,
     "metadata": {},
     "output_type": "execute_result"
    }
   ],
   "source": [
    "t"
   ]
  },
  {
   "cell_type": "code",
   "execution_count": 321,
   "metadata": {},
   "outputs": [
    {
     "data": {
      "text/plain": [
       "tensor([[2, 4, 3],\n",
       "        [2, 7, 9],\n",
       "        [2, 3, 1],\n",
       "        [2, 9, 3]])"
      ]
     },
     "execution_count": 321,
     "metadata": {},
     "output_type": "execute_result"
    }
   ],
   "source": [
    "# give tokens\n",
    "t[:, :-1]"
   ]
  },
  {
   "cell_type": "code",
   "execution_count": 322,
   "metadata": {},
   "outputs": [
    {
     "data": {
      "text/plain": [
       "tensor([[4, 3, 1],\n",
       "        [7, 9, 3],\n",
       "        [3, 1, 1],\n",
       "        [9, 3, 1]])"
      ]
     },
     "execution_count": 322,
     "metadata": {},
     "output_type": "execute_result"
    }
   ],
   "source": [
    "# gold target 이거때문에 자꾸 2 내 밷는구나 ;;\n",
    "t[:, 1:]"
   ]
  },
  {
   "cell_type": "code",
   "execution_count": 323,
   "metadata": {},
   "outputs": [],
   "source": [
    "x_pos = get_pos(x, pad_idx=1)\n",
    "t_pos = get_pos(t, pad_idx=1, sos_idx=2, eos_idx=3)"
   ]
  },
  {
   "cell_type": "code",
   "execution_count": 324,
   "metadata": {},
   "outputs": [
    {
     "name": "stdout",
     "output_type": "stream",
     "text": [
      "tensor([[1, 2, 3, 0],\n",
      "        [1, 2, 0, 0],\n",
      "        [1, 2, 3, 0],\n",
      "        [1, 2, 3, 0]])\n",
      "tensor([[1, 3, 2, 0],\n",
      "        [1, 3, 4, 2],\n",
      "        [1, 2, 0, 0],\n",
      "        [1, 3, 2, 0]])\n"
     ]
    }
   ],
   "source": [
    "print(x_pos)\n",
    "print(t_pos)"
   ]
  },
  {
   "cell_type": "code",
   "execution_count": 325,
   "metadata": {},
   "outputs": [],
   "source": [
    "model = Transformer(vocab_len, 4, vocab_len, 4, n_layer, n_head, d_model, d_k, d_v, d_f, \n",
    "                    pad_idx=1, pos_pad_idx=0, drop_rate=0.1, use_conv=False, \n",
    "                    linear_weight_share=False, embed_weight_share=False)"
   ]
  },
  {
   "cell_type": "code",
   "execution_count": 326,
   "metadata": {},
   "outputs": [],
   "source": [
    "lbs = LabelSmoothing(trg_vocab_size=vocab_len, pad_idx=1, eps=0.1)"
   ]
  },
  {
   "cell_type": "code",
   "execution_count": 327,
   "metadata": {},
   "outputs": [],
   "source": [
    "loss_function = nn.CrossEntropyLoss()\n",
    "optimizer = optim.Adam(model.parameters())"
   ]
  },
  {
   "cell_type": "code",
   "execution_count": 328,
   "metadata": {},
   "outputs": [],
   "source": [
    "warmup_steps = 4000\n",
    "optimizer = WarmUpOptim(warmup_steps=warmup_steps, d_model=d_model, \n",
    "                        optimizer=optim.Adam(model.parameters(), betas=(0.9, 0.98), eps=10e-9))"
   ]
  },
  {
   "cell_type": "code",
   "execution_count": 329,
   "metadata": {},
   "outputs": [
    {
     "name": "stdout",
     "output_type": "stream",
     "text": [
      "0 tensor(0.1998, grad_fn=<DivBackward0>)\n",
      "100 tensor(0.1466, grad_fn=<DivBackward0>)\n",
      "200 tensor(0.0909, grad_fn=<DivBackward0>)\n",
      "300 tensor(0.0519, grad_fn=<DivBackward0>)\n",
      "400 tensor(0.0260, grad_fn=<DivBackward0>)\n",
      "500 tensor(0.0307, grad_fn=<DivBackward0>)\n",
      "600 tensor(0.0219, grad_fn=<DivBackward0>)\n",
      "700 tensor(0.0141, grad_fn=<DivBackward0>)\n",
      "800 tensor(0.0052, grad_fn=<DivBackward0>)\n",
      "900 tensor(0.0015, grad_fn=<DivBackward0>)\n"
     ]
    }
   ],
   "source": [
    "for step in range(1000):\n",
    "    optimizer.zero_grad()\n",
    "    output = model(x, x_pos, t, t_pos)\n",
    "    real_target = t[:, 1:].contiguous()\n",
    "    loss = loss_function(output.view(-1, output.size(-1)), real_target.view(-1))\n",
    "#     loss = lbs(output, t)\n",
    "    loss.backward()\n",
    "    optimizer.step()\n",
    "    n_words = t.ne(1).sum()\n",
    "    if step % 100 == 0:\n",
    "        print(step, loss/n_words)"
   ]
  },
  {
   "cell_type": "code",
   "execution_count": 330,
   "metadata": {},
   "outputs": [],
   "source": [
    "enc = torch.LongTensor([[2, 3, 1, 1]])\n",
    "enc_pos = get_pos(enc)"
   ]
  },
  {
   "cell_type": "code",
   "execution_count": 331,
   "metadata": {},
   "outputs": [],
   "source": [
    "enc_output, enc_self_attn = model.encoder(enc, enc_pos, return_attn=True)"
   ]
  },
  {
   "cell_type": "code",
   "execution_count": 332,
   "metadata": {},
   "outputs": [
    {
     "name": "stdout",
     "output_type": "stream",
     "text": [
      "tensor([7])\n",
      "tensor([9])\n",
      "tensor([3])\n",
      "tensor([1])\n",
      "tensor([1])\n",
      "tensor([1])\n",
      "tensor([1])\n"
     ]
    }
   ],
   "source": [
    "dec = torch.LongTensor([[2]])\n",
    "dec_pos = get_pos(dec, pad_idx=1, sos_idx=2, eos_idx=3)\n",
    "\n",
    "attns = []\n",
    "for i in range(7):\n",
    "    dec_output, (dec_self_attn, dec_enc_attn) = model.decoder(dec, dec_pos, enc, enc_output, return_attn=True)\n",
    "    score = model.projection(dec_output)\n",
    "    pred = score[:, -1, :].argmax(-1)\n",
    "    print(pred)\n",
    "    attns.append((dec_self_attn, dec_enc_attn))\n",
    "    dec = torch.cat((dec, pred.unsqueeze(0)), dim=1)\n",
    "    dec_pos = get_pos(dec, pad_idx=1, sos_idx=2, eos_idx=3)\n",
    "    "
   ]
  },
  {
   "cell_type": "code",
   "execution_count": 269,
   "metadata": {},
   "outputs": [
    {
     "data": {
      "text/plain": [
       "<matplotlib.image.AxesImage at 0x7ff2f6b77978>"
      ]
     },
     "execution_count": 269,
     "metadata": {},
     "output_type": "execute_result"
    },
    {
     "data": {
      "image/png": "[encoded data removed]",
      "text/plain": [
       "<Figure size 288x288 with 1 Axes>"
      ]
     },
     "metadata": {
      "needs_background": "light"
     },
     "output_type": "display_data"
    }
   ],
   "source": [
    "plt.matshow(enc_self_attn[0][0].squeeze().detach().numpy())"
   ]
  },
  {
   "cell_type": "code",
   "execution_count": null,
   "metadata": {},
   "outputs": [],
   "source": []
  }
 ],
 "metadata": {
  "kernelspec": {
   "display_name": "Python(venv)",
   "language": "python",
   "name": "venv"
  },
  "language_info": {
   "codemirror_mode": {
    "name": "ipython",
    "version": 3
   },
   "file_extension": ".py",
   "mimetype": "text/x-python",
   "name": "python",
   "nbconvert_exporter": "python",
   "pygments_lexer": "ipython3",
   "version": "3.6.8"
  }
 },
 "nbformat": 4,
 "nbformat_minor": 2
}
